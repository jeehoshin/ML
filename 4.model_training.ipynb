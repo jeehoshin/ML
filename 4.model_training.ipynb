{
 "cells": [
  {
   "cell_type": "markdown",
   "metadata": {},
   "source": [
    "# 4.모델 훈련(핸즈온 머신러닝)"
   ]
  },
  {
   "cell_type": "markdown",
   "metadata": {},
   "source": [
    "## 4.1 선형회귀"
   ]
  },
  {
   "cell_type": "markdown",
   "metadata": {},
   "source": [
    "### 4.1.1 정규방정식"
   ]
  },
  {
   "cell_type": "markdown",
   "metadata": {},
   "source": [
    "- 기초 데이터 세팅"
   ]
  },
  {
   "cell_type": "code",
   "execution_count": 1,
   "metadata": {},
   "outputs": [],
   "source": [
    "import pandas as pd\n",
    "import numpy as np\n",
    "import matplotlib.pyplot as plt\n",
    "\n",
    "x = 2 * np.random.rand(100,1)\n",
    "y = 4 + 3*x + np.random.randn(100,1)"
   ]
  },
  {
   "cell_type": "code",
   "execution_count": 2,
   "metadata": {},
   "outputs": [
    {
     "data": {
      "image/png": "[encoded data removed]",
      "text/plain": [
       "<Figure size 720x360 with 1 Axes>"
      ]
     },
     "metadata": {
      "needs_background": "light"
     },
     "output_type": "display_data"
    }
   ],
   "source": [
    "plt.figure(figsize = (10,5))\n",
    "\n",
    "plt.plot(x, y, 'b.')\n",
    "\n",
    "plt.show()"
   ]
  },
  {
   "cell_type": "code",
   "execution_count": 3,
   "metadata": {},
   "outputs": [
    {
     "data": {
      "text/plain": [
       "(100,)"
      ]
     },
     "execution_count": 3,
     "metadata": {},
     "output_type": "execute_result"
    }
   ],
   "source": [
    "x.reshape(-1).shape"
   ]
  },
  {
   "cell_type": "code",
   "execution_count": 4,
   "metadata": {},
   "outputs": [
    {
     "data": {
      "image/png": "[encoded data removed]",
      "text/plain": [
       "<Figure size 360x360 with 6 Axes>"
      ]
     },
     "metadata": {
      "needs_background": "light"
     },
     "output_type": "display_data"
    }
   ],
   "source": [
    "import pandas as pd\n",
    "import seaborn as sns\n",
    "import matplotlib.pyplot as plt\n",
    "\n",
    "data = pd.DataFrame({\n",
    "    'y' : y.reshape(-1), 'x' : x.reshape(-1)\n",
    "}, index = range(0,100))\n",
    "\n",
    "\n",
    "sns.pairplot(data)\n",
    "plt.show()"
   ]
  },
  {
   "cell_type": "markdown",
   "metadata": {},
   "source": [
    "-  정규방정식 적용"
   ]
  },
  {
   "cell_type": "code",
   "execution_count": 5,
   "metadata": {},
   "outputs": [],
   "source": [
    "x_b = np.c_[np.ones((100,1)), x] #x데이터에 b0을 추가해줌\n",
    "theta_best = np.linalg.inv(x_b.T.dot(x_b)).dot(x_b.T).dot(y) #(t(x)**x)**t(x)**y"
   ]
  },
  {
   "cell_type": "code",
   "execution_count": 6,
   "metadata": {},
   "outputs": [
    {
     "data": {
      "text/plain": [
       "array([[3.80068519],\n",
       "       [3.07595546]])"
      ]
     },
     "execution_count": 6,
     "metadata": {},
     "output_type": "execute_result"
    }
   ],
   "source": [
    "theta_best"
   ]
  },
  {
   "cell_type": "markdown",
   "metadata": {},
   "source": [
    "실제로 나와야 하는 값은 y를 만들때 넣은 절편인 4와 기울기인 3! \n",
    "하지만 오차항 때문에 정확한 값은 얻지 못했다\n"
   ]
  },
  {
   "cell_type": "code",
   "execution_count": 7,
   "metadata": {},
   "outputs": [
    {
     "data": {
      "text/plain": [
       "array([[0],\n",
       "       [2]])"
      ]
     },
     "execution_count": 7,
     "metadata": {},
     "output_type": "execute_result"
    }
   ],
   "source": [
    "np.array([[0], [2]])"
   ]
  },
  {
   "cell_type": "code",
   "execution_count": 8,
   "metadata": {},
   "outputs": [
    {
     "data": {
      "text/plain": [
       "array([[1.],\n",
       "       [1.]])"
      ]
     },
     "execution_count": 8,
     "metadata": {},
     "output_type": "execute_result"
    }
   ],
   "source": [
    "np.ones((2,1))"
   ]
  },
  {
   "cell_type": "markdown",
   "metadata": {},
   "source": [
    "- 사이킷런 적용"
   ]
  },
  {
   "cell_type": "code",
   "execution_count": 9,
   "metadata": {},
   "outputs": [
    {
     "data": {
      "text/plain": [
       "LinearRegression()"
      ]
     },
     "execution_count": 9,
     "metadata": {},
     "output_type": "execute_result"
    }
   ],
   "source": [
    "from sklearn.linear_model import LinearRegression\n",
    "lin_reg = LinearRegression()\n",
    "lin_reg.fit(x.reshape(-1,1),y)"
   ]
  },
  {
   "cell_type": "code",
   "execution_count": 10,
   "metadata": {},
   "outputs": [
    {
     "data": {
      "text/plain": [
       "array([3.80068519])"
      ]
     },
     "execution_count": 10,
     "metadata": {},
     "output_type": "execute_result"
    }
   ],
   "source": [
    "lin_reg.intercept_"
   ]
  },
  {
   "cell_type": "markdown",
   "metadata": {},
   "source": [
    "## 4.2 Gradient Descent"
   ]
  },
  {
   "cell_type": "code",
   "execution_count": 11,
   "metadata": {},
   "outputs": [
    {
     "data": {
      "text/plain": [
       "(100, 1)"
      ]
     },
     "execution_count": 11,
     "metadata": {},
     "output_type": "execute_result"
    }
   ],
   "source": [
    "x.shape"
   ]
  },
  {
   "cell_type": "code",
   "execution_count": 12,
   "metadata": {},
   "outputs": [
    {
     "data": {
      "text/plain": [
       "(100, 1)"
      ]
     },
     "execution_count": 12,
     "metadata": {},
     "output_type": "execute_result"
    }
   ],
   "source": [
    "x.reshape(-1,1).shape"
   ]
  },
  {
   "cell_type": "code",
   "execution_count": 13,
   "metadata": {},
   "outputs": [
    {
     "name": "stdout",
     "output_type": "stream",
     "text": [
      "[[ 0.17083547]\n",
      " [-0.64128614]]\n"
     ]
    }
   ],
   "source": [
    "#경사하강법의 구현\n",
    "\n",
    "eta = 0.1 #학습률(에타)\n",
    "n_iterations = 1000\n",
    "m = 100\n",
    "\n",
    "#theta를 초기화\n",
    "theta = np.random.randn(2,1)\n",
    "print(theta)\n",
    "\n",
    "#변수저장\n",
    "beta0 = list()\n",
    "beta1 = list()\n",
    "\n",
    "for iteration in range(n_iterations) : \n",
    "    gradients = 2/m * x_b.T.dot(x_b.dot(theta) - y)\n",
    "    theta = theta - eta * gradients\n",
    "    beta0.append(theta[0][0])\n",
    "    beta1.append(theta[1][0])"
   ]
  },
  {
   "cell_type": "code",
   "execution_count": 14,
   "metadata": {},
   "outputs": [
    {
     "data": {
      "text/plain": [
       "3.8006851852873442"
      ]
     },
     "execution_count": 14,
     "metadata": {},
     "output_type": "execute_result"
    }
   ],
   "source": [
    "theta[0][0]"
   ]
  },
  {
   "cell_type": "code",
   "execution_count": 15,
   "metadata": {},
   "outputs": [],
   "source": [
    "#새로운 데이터 생성\n",
    "x_new = np.array([[0], [2]])\n",
    "x_new_b = np.c_[np.ones((2,1)), x_new]\n",
    "\n",
    "#파라미터 저장\n",
    "param = np.array([beta0, beta1])\n",
    "\n",
    "#행렬곱 생성\n",
    "sgd_0_1 = x_new_b.dot(param).T\n"
   ]
  },
  {
   "cell_type": "code",
   "execution_count": 16,
   "metadata": {},
   "outputs": [
    {
     "data": {
      "image/png": "[encoded data removed]",
      "text/plain": [
       "<Figure size 432x288 with 1 Axes>"
      ]
     },
     "metadata": {
      "needs_background": "light"
     },
     "output_type": "display_data"
    }
   ],
   "source": [
    "#파라미터가 어디로 수렵하는지 보자\n",
    "plt.plot(figsize = (10,5))\n",
    "plt.plot(sgd_0_1)\n",
    "plt.show()"
   ]
  },
  {
   "cell_type": "code",
   "execution_count": 17,
   "metadata": {},
   "outputs": [
    {
     "data": {
      "image/png": "[encoded data removed]",
      "text/plain": [
       "<Figure size 432x288 with 1 Axes>"
      ]
     },
     "metadata": {
      "needs_background": "light"
     },
     "output_type": "display_data"
    }
   ],
   "source": [
    "import warnings\n",
    "warnings.filterwarnings(action='ignore')\n",
    "\n",
    "#그래프 그리기\n",
    "plt.plot(figsize = (15,10))\n",
    "plt.plot(x,y,'b.')\n",
    "for i in range(0,200,10):\n",
    "    plt.plot([0,max(x)],sgd_0_1[i],'g-')\n",
    "    if i == 190 : \n",
    "        plt.plot([0,max(x)],sgd_0_1[i],'r-')"
   ]
  },
  {
   "cell_type": "markdown",
   "metadata": {},
   "source": [
    "위와 같이 천천히 최적의 회귀선으로 다가가게 된다."
   ]
  },
  {
   "cell_type": "markdown",
   "metadata": {},
   "source": [
    "###  4.2.2 Stocastic Gradient Descent"
   ]
  },
  {
   "cell_type": "markdown",
   "metadata": {},
   "source": [
    "> 매 스텝 샘플을 만들고 그 샘플에 대해 그레디언트를 계산한다\n",
    "\n",
    "> 샘플 = 무작위성 이므로 배치 경사하강법보다 불안정하다\n",
    "\n",
    "> 사실 딥러닝에서의 배치는 전체가 아니라 일부인데 왜 여기서는 반대로 사용되는지 잘 모르겠다.\n",
    "\n",
    "> 초반에는 학습률을 크게 늘려 local minima에 빠지지 않게 하고, 이후에는 학습률을 작게 줄여서 global minima를 찾게 한다고 한다! 좋은 아이디어 인듯"
   ]
  },
  {
   "cell_type": "code",
   "execution_count": 18,
   "metadata": {},
   "outputs": [],
   "source": [
    "n_epochs = 50 #반복 횟수를 의미한다.\n",
    "\n",
    "t0, t1 = 5, 50 #학습 스케쥴 파라미터...?\n",
    "\n",
    "m=100\n",
    "\n",
    "def learning_schedule(t) : \n",
    "    return t0/(t+t1)\n",
    "\n",
    "theta = np.random.randn(2,1)\n",
    "\n",
    "for epoch in range(n_epochs) : \n",
    "    for i in range(m) : #100개의 샘플로 진행한다.\n",
    "        random_index = np.random.randint(m)\n",
    "        xi = x_b[random_index:random_index+1] #이건 하나의 x를 뽑아주는 과정\n",
    "        yi = y[random_index:random_index+1]\n",
    "        gradients = 2*xi.T.dot(xi.dot(theta) -yi)\n",
    "        eta = learning_schedule(epoch*m + i)\n",
    "        theta = theta -eta*gradients\n",
    "        \n"
   ]
  },
  {
   "cell_type": "code",
   "execution_count": 19,
   "metadata": {},
   "outputs": [
    {
     "data": {
      "text/plain": [
       "array([[3.80752192],\n",
       "       [3.09687321]])"
      ]
     },
     "execution_count": 19,
     "metadata": {},
     "output_type": "execute_result"
    }
   ],
   "source": [
    "theta"
   ]
  },
  {
   "cell_type": "markdown",
   "metadata": {},
   "source": [
    "- 사이킷 런에서도 구동 가능!"
   ]
  },
  {
   "cell_type": "code",
   "execution_count": 20,
   "metadata": {},
   "outputs": [
    {
     "data": {
      "text/plain": [
       "SGDRegressor(eta0=0.1, penalty=None)"
      ]
     },
     "execution_count": 20,
     "metadata": {},
     "output_type": "execute_result"
    }
   ],
   "source": [
    "from sklearn.linear_model import SGDRegressor\n",
    "sgd_reg = SGDRegressor(max_iter = 1000, tol = 1e-3, penalty = None, eta0 = 0.1)\n",
    "#tol은 tolerance?로 0.001보다 손실이 적게 줄어들때가지 반복실행하는 것 같다\n",
    "\n",
    "sgd_reg.fit(x,y.ravel())"
   ]
  },
  {
   "cell_type": "code",
   "execution_count": 21,
   "metadata": {},
   "outputs": [
    {
     "data": {
      "text/plain": [
       "(array([3.77198449]), array([3.03329573]))"
      ]
     },
     "execution_count": 21,
     "metadata": {},
     "output_type": "execute_result"
    }
   ],
   "source": [
    "sgd_reg.intercept_, sgd_reg.coef_"
   ]
  },
  {
   "cell_type": "markdown",
   "metadata": {},
   "source": [
    "## 4.3 다항회귀"
   ]
  },
  {
   "cell_type": "markdown",
   "metadata": {},
   "source": [
    "- 간단한 데이터 셋 생성"
   ]
  },
  {
   "cell_type": "code",
   "execution_count": 22,
   "metadata": {},
   "outputs": [
    {
     "data": {
      "image/png": "[encoded data removed]",
      "text/plain": [
       "<Figure size 504x360 with 1 Axes>"
      ]
     },
     "metadata": {
      "needs_background": "light"
     },
     "output_type": "display_data"
    }
   ],
   "source": [
    "m=100\n",
    "x = 6*np.random.rand(m,1) -3\n",
    "y = 0.5*x**2 + x + 2 #+ np.random.randn(m,1) #마지막 항은 약간의 오차항이라고 한다\n",
    "\n",
    "plt.figure(figsize = (7,5))\n",
    "plt.plot(x,y,'b.')\n",
    "plt.show()"
   ]
  },
  {
   "cell_type": "code",
   "execution_count": 23,
   "metadata": {},
   "outputs": [
    {
     "data": {
      "image/png": "[encoded data removed]",
      "text/plain": [
       "<Figure size 504x360 with 1 Axes>"
      ]
     },
     "metadata": {
      "needs_background": "light"
     },
     "output_type": "display_data"
    }
   ],
   "source": [
    "m=100\n",
    "x = 6*np.random.rand(m,1) -3\n",
    "y = 0.5*x**2 + x + 2 + np.random.randn(m,1) #마지막 항은 약간의 오차항이라고 한다\n",
    "\n",
    "plt.figure(figsize = (7,5))\n",
    "plt.plot(x,y,'b.')\n",
    "plt.show()"
   ]
  },
  {
   "cell_type": "markdown",
   "metadata": {},
   "source": [
    "확실히 오차항을 추가하니 차이가 존재한다."
   ]
  },
  {
   "cell_type": "markdown",
   "metadata": {},
   "source": [
    "- PolynomialFeatures 이용"
   ]
  },
  {
   "cell_type": "code",
   "execution_count": 24,
   "metadata": {},
   "outputs": [
    {
     "name": "stdout",
     "output_type": "stream",
     "text": [
      "[2.44920935]\n",
      "[2.44920935 5.99862646]\n"
     ]
    }
   ],
   "source": [
    "from sklearn.preprocessing import PolynomialFeatures\n",
    "\n",
    "#include bias를 사용하면 x0 = 1인 항이 추가된다.\n",
    "poly_features=PolynomialFeatures(degree = 2, include_bias = False)\n",
    "\n",
    "x_poly = poly_features.fit_transform(x)\n",
    "print(x[0])\n",
    "print(x_poly[0]) #그 제곱값이 함께 들어가는 것 같다."
   ]
  },
  {
   "cell_type": "markdown",
   "metadata": {},
   "source": [
    "변수가 a,b이고 degree = 3으로 설정하게 될 경우 $$ ab, ab^2, a^2b$$도 추가된다고 한다"
   ]
  },
  {
   "cell_type": "markdown",
   "metadata": {},
   "source": [
    "## 4.4 학습곡선"
   ]
  },
  {
   "cell_type": "code",
   "execution_count": 25,
   "metadata": {},
   "outputs": [],
   "source": [
    "from sklearn.metrics import mean_squared_error\n",
    "from sklearn.model_selection import train_test_split\n",
    "\n",
    "def plot_learning_curves(model, x, y) : \n",
    "    x_train, x_val, y_train, y_val = train_test_split(x, y, test_size = 0.2)\n",
    "    train_errors, val_errors = [], []\n",
    "    for m in range(1,len(x_train)) : \n",
    "        model.fit(x_train[:m], y_train[:m])\n",
    "        y_train_predict = model.predict(x_train[:m])\n",
    "        y_val_predict = model.predict(x_val)\n",
    "        train_errors.append(mean_squared_error(y_train_predict, y_train[:m]))\n",
    "        val_errors.append(mean_squared_error(y_val_predict, y_val))\n",
    "    plt.figure(figsize = (10,5))\n",
    "    plt.plot(np.sqrt(train_errors), 'r-+', linewidth=2, label = 'train set')\n",
    "    plt.plot(np.sqrt(val_errors), 'b-', linewidth=3, label = 'validation set')\n",
    "    plt.ylabel('RMSE')\n",
    "    plt.legend()"
   ]
  },
  {
   "cell_type": "code",
   "execution_count": 26,
   "metadata": {},
   "outputs": [
    {
     "data": {
      "image/png": "[encoded data removed]",
      "text/plain": [
       "<Figure size 720x360 with 1 Axes>"
      ]
     },
     "metadata": {
      "needs_background": "light"
     },
     "output_type": "display_data"
    }
   ],
   "source": [
    "lin_reg = LinearRegression()\n",
    "plot_learning_curves(lin_reg,x,y)"
   ]
  },
  {
   "cell_type": "markdown",
   "metadata": {},
   "source": [
    "이제는 10차 다항식을 그려본다고 한다"
   ]
  },
  {
   "cell_type": "code",
   "execution_count": 27,
   "metadata": {},
   "outputs": [
    {
     "data": {
      "image/png": "[encoded data removed]",
      "text/plain": [
       "<Figure size 720x360 with 1 Axes>"
      ]
     },
     "metadata": {
      "needs_background": "light"
     },
     "output_type": "display_data"
    }
   ],
   "source": [
    "from sklearn.pipeline import Pipeline\n",
    "\n",
    "#Pipeline에서 기억할 것은\n",
    "polynomial_regression = Pipeline([\n",
    "    (\"poly_features\", PolynomialFeatures(degree=10, include_bias = False)),\n",
    "    (\"lin_reg\", LinearRegression())\n",
    "])\n",
    "\n",
    "plot_learning_curves(polynomial_regression, x, y)\n",
    "#근데 이렇게 하니까 이상하게 되는데,,,"
   ]
  },
  {
   "cell_type": "markdown",
   "metadata": {},
   "source": [
    "## 4.5 규제가 있는 선형모델 "
   ]
  },
  {
   "cell_type": "markdown",
   "metadata": {},
   "source": [
    "### 4.5.1 Ridge Regression"
   ]
  },
  {
   "cell_type": "markdown",
   "metadata": {},
   "source": [
    "- 일반 릿지 사용"
   ]
  },
  {
   "cell_type": "code",
   "execution_count": 28,
   "metadata": {},
   "outputs": [
    {
     "data": {
      "text/plain": [
       "array([[5.32046499]])"
      ]
     },
     "execution_count": 28,
     "metadata": {},
     "output_type": "execute_result"
    }
   ],
   "source": [
    "from sklearn.linear_model import Ridge\n",
    "ridge_reg = Ridge(alpha = 1, solver = 'cholesky')\n",
    "ridge_reg.fit(x,y)\n",
    "ridge_reg.predict([[1.5]])"
   ]
  },
  {
   "cell_type": "code",
   "execution_count": 29,
   "metadata": {},
   "outputs": [
    {
     "data": {
      "text/plain": [
       "array([5.29501935])"
      ]
     },
     "execution_count": 29,
     "metadata": {},
     "output_type": "execute_result"
    }
   ],
   "source": [
    "sgd_reg = SGDRegressor(penalty = 'l2') #아마 l1으로 넣으면 라쏘겠지?\n",
    "sgd_reg.fit(x,y)\n",
    "sgd_reg.predict([[1.5]])"
   ]
  },
  {
   "cell_type": "markdown",
   "metadata": {},
   "source": [
    "### 4.5.2 Lasso Regression"
   ]
  },
  {
   "cell_type": "markdown",
   "metadata": {},
   "source": [
    "- sklearn.linear_model에서 바로 적용하는 방식"
   ]
  },
  {
   "cell_type": "code",
   "execution_count": 30,
   "metadata": {},
   "outputs": [
    {
     "data": {
      "text/plain": [
       "array([5.28444091])"
      ]
     },
     "execution_count": 30,
     "metadata": {},
     "output_type": "execute_result"
    }
   ],
   "source": [
    "from sklearn.linear_model import Lasso\n",
    "\n",
    "lasso_reg = Lasso(alpha=0.1)\n",
    "lasso_reg.fit(x,y)\n",
    "lasso_reg.predict([[1.5]])  "
   ]
  },
  {
   "cell_type": "markdown",
   "metadata": {},
   "source": [
    "- SGDRegressor을 활용해서 사용할 수 있다고 한다. 값은 거의 비슷하게 나오는 듯"
   ]
  },
  {
   "cell_type": "code",
   "execution_count": 31,
   "metadata": {},
   "outputs": [
    {
     "data": {
      "text/plain": [
       "array([5.28468737])"
      ]
     },
     "execution_count": 31,
     "metadata": {},
     "output_type": "execute_result"
    }
   ],
   "source": [
    "lasso_sgd = SGDRegressor(penalty='l1', alpha = 0.1)\n",
    "lasso_sgd.fit(x,y)\n",
    "lasso_sgd.predict([[1.5]])"
   ]
  },
  {
   "cell_type": "markdown",
   "metadata": {},
   "source": [
    "### 4.5.3 Elastic net"
   ]
  },
  {
   "cell_type": "markdown",
   "metadata": {},
   "source": [
    "하는 방법만이라도 알아보자"
   ]
  },
  {
   "cell_type": "markdown",
   "metadata": {},
   "source": [
    "$$      1 / (2 * n_samples) * ||y - Xw||^2_2\n",
    "        + alpha * l1_ratio * ||w||_1\n",
    "        + 0.5 * alpha * (1 - l1_ratio) * ||w||^2_2$$\n",
    "        \n",
    "이다. \n",
    "따라서 alpha는 규제항 자체에 대한 가중치이고, l1_ratio는 라쏘를 얼마나 쓸지를 알려주는 것이다."
   ]
  },
  {
   "cell_type": "code",
   "execution_count": 32,
   "metadata": {},
   "outputs": [
    {
     "data": {
      "text/plain": [
       "array([5.28404875])"
      ]
     },
     "execution_count": 32,
     "metadata": {},
     "output_type": "execute_result"
    }
   ],
   "source": [
    "from sklearn.linear_model import ElasticNet\n",
    "\n",
    "elastic_net = ElasticNet(alpha = 0.1, l1_ratio = 0.9)\n",
    "elastic_net.fit(x,y)\n",
    "elastic_net.predict([[1.5]])"
   ]
  },
  {
   "cell_type": "code",
   "execution_count": 33,
   "metadata": {},
   "outputs": [],
   "source": [
    "#실험적으로 그래프를 그려보자.\n",
    "alpha, l1, pred =[], [], []\n",
    "param_range = np.arange(0.0 ,1.0 ,0.1)\n",
    "\n",
    "for i in param_range : \n",
    "    for j in param_range : \n",
    "        elastic_net = ElasticNet(alpha = i, l1_ratio = j)\n",
    "        elastic_net.fit(x,y)\n",
    "        pred.append(elastic_net.predict([[1.5]]))\n",
    "        alpha.append(i)\n",
    "        l1.append(j)\n",
    "        \n",
    "        "
   ]
  },
  {
   "cell_type": "code",
   "execution_count": 34,
   "metadata": {},
   "outputs": [
    {
     "data": {
      "image/png": "[encoded data removed]",
      "text/plain": [
       "<Figure size 720x720 with 1 Axes>"
      ]
     },
     "metadata": {
      "needs_background": "light"
     },
     "output_type": "display_data"
    }
   ],
   "source": [
    "#그래프 그리기\n",
    "import matplotlib.pyplot as plt\n",
    "fig = plt.figure(figsize = (10,10))\n",
    "\n",
    "ax = fig.gca(projection = '3d')\n",
    "\n",
    "ax.scatter(alpha, l1, pred, s = 10)\n",
    "ax.set_xlabel('alpha')\n",
    "ax.set_ylabel('l1')\n",
    "ax.set_zlabel('pred')\n",
    "plt.suptitle('wow')\n",
    "plt.show()"
   ]
  },
  {
   "cell_type": "markdown",
   "metadata": {},
   "source": [
    "### 4.5.4 Early stopping"
   ]
  },
  {
   "cell_type": "markdown",
   "metadata": {},
   "source": [
    "훈련을 거듭함(epoch를 증가시킴에 따라)에 따라 train error는 지속적으로 감소하지만, validation error는 일정구간 감소하다가 증가하게 된다. 이는 지나치게 train set에 적합되어, 새로운 데이터인 validation data가 들어왔을 때 좋은 성능을 내지 못하는 과적합의 문제가 발생했음을 의미한다.\n",
    "\n",
    "이를 해소하기 위해 조기 종료의 방식을 적용한다"
   ]
  },
  {
   "cell_type": "markdown",
   "metadata": {},
   "source": [
    "- 책에서 제시한 조기종료 기본 구현 코드 - DO NOT RUN"
   ]
  },
  {
   "cell_type": "code",
   "execution_count": 35,
   "metadata": {},
   "outputs": [
    {
     "ename": "NameError",
     "evalue": "name 'x_train' is not defined",
     "output_type": "error",
     "traceback": [
      "\u001b[1;31m---------------------------------------------------------------------------\u001b[0m",
      "\u001b[1;31mNameError\u001b[0m                                 Traceback (most recent call last)",
      "\u001b[1;32m<ipython-input-35-16f4126180aa>\u001b[0m in \u001b[0;36m<module>\u001b[1;34m\u001b[0m\n\u001b[0;32m      8\u001b[0m     \u001b[1;33m(\u001b[0m\u001b[1;34m'std_scaler'\u001b[0m\u001b[1;33m,\u001b[0m \u001b[0mStandardScaler\u001b[0m\u001b[1;33m(\u001b[0m\u001b[1;33m)\u001b[0m\u001b[1;33m)\u001b[0m\u001b[1;33m\u001b[0m\u001b[1;33m\u001b[0m\u001b[0m\n\u001b[0;32m      9\u001b[0m ])\n\u001b[1;32m---> 10\u001b[1;33m \u001b[0mx_train_poly_scaled\u001b[0m \u001b[1;33m=\u001b[0m \u001b[0mpoly_scaler\u001b[0m\u001b[1;33m.\u001b[0m\u001b[0mfit_transform\u001b[0m\u001b[1;33m(\u001b[0m\u001b[0mx_train\u001b[0m\u001b[1;33m)\u001b[0m\u001b[1;33m\u001b[0m\u001b[1;33m\u001b[0m\u001b[0m\n\u001b[0m\u001b[0;32m     11\u001b[0m \u001b[0mx_val_poly_scaled\u001b[0m \u001b[1;33m=\u001b[0m \u001b[0mpoly_scaler\u001b[0m\u001b[1;33m.\u001b[0m\u001b[0mfit_transform\u001b[0m\u001b[1;33m(\u001b[0m\u001b[0mx_val\u001b[0m\u001b[1;33m)\u001b[0m\u001b[1;33m\u001b[0m\u001b[1;33m\u001b[0m\u001b[0m\n\u001b[0;32m     12\u001b[0m \u001b[1;33m\u001b[0m\u001b[0m\n",
      "\u001b[1;31mNameError\u001b[0m: name 'x_train' is not defined"
     ]
    }
   ],
   "source": [
    "from sklearn.base import clone\n",
    "from sklearn.preprocessing import StandardScaler\n",
    "from sklearn.metrics import mean_squared_error\n",
    "\n",
    "#data setting\n",
    "poly_scaler = Pipeline([\n",
    "    ('poly_features', PolynomialFeatures(degree = 90, include_bias=False)),\n",
    "    ('std_scaler', StandardScaler())\n",
    "])\n",
    "x_train_poly_scaled = poly_scaler.fit_transform(x_train)\n",
    "x_val_poly_scaled = poly_scaler.fit_transform(x_val)\n",
    "\n",
    "sgd_reg = SGDRegressor(max_iter = 1, \n",
    "                      tol = -np.infty,\n",
    "                      warm_start = True, #fit()메서드가 호출될 때 처음부터 다시 시작이 아니라 이전 모델 파라미터에서 훈련을 계속한다.\n",
    "                      penalty= None,\n",
    "                      learning_rate='constant',\n",
    "                      eta0 = 0.0005)\n",
    "\n",
    "minimun_val_error = float('inf')\n",
    "best_epoch = None\n",
    "best_model = None\n",
    "for epoch in range(1000) : \n",
    "    sgd_reg.fit(x_train_poly_scaled, y_train)\n",
    "    y_val_predict = sgd_reg.predict(x_val_poly_scaled)\n",
    "    val_error = mean_squared_error(y_val, y_val_predict)\n",
    "    if val_error < mininum_val_error : \n",
    "        minimun_val_error = val_error\n",
    "        best_epoch = epoch\n",
    "        best_model = clone(sgd_reg)"
   ]
  },
  {
   "cell_type": "markdown",
   "metadata": {},
   "source": [
    "## 4.6 Logistic Regression "
   ]
  },
  {
   "cell_type": "markdown",
   "metadata": {},
   "source": [
    "### 4.6.3 결정 경계"
   ]
  },
  {
   "cell_type": "markdown",
   "metadata": {},
   "source": [
    "- iris data 준비"
   ]
  },
  {
   "cell_type": "code",
   "execution_count": 36,
   "metadata": {},
   "outputs": [],
   "source": [
    "#iris data\n",
    "\n",
    "from sklearn import datasets\n",
    "\n",
    "iris = datasets.load_iris()\n",
    "list(iris.keys())\n",
    "\n",
    "x = iris['data'][:, 3:] #petal width(cm) - 꽃잎의 너비라고 함\n",
    "y = (iris['target'] == 2).astype(np.int) #virginica면 1, 아니면 0"
   ]
  },
  {
   "cell_type": "markdown",
   "metadata": {},
   "source": [
    "- 로지스틱 모형 훈련"
   ]
  },
  {
   "cell_type": "code",
   "execution_count": 37,
   "metadata": {},
   "outputs": [
    {
     "data": {
      "text/plain": [
       "LogisticRegression()"
      ]
     },
     "execution_count": 37,
     "metadata": {},
     "output_type": "execute_result"
    }
   ],
   "source": [
    "from sklearn.linear_model import LogisticRegression\n",
    "\n",
    "log_reg = LogisticRegression()\n",
    "log_reg.fit(x,y)"
   ]
  },
  {
   "cell_type": "code",
   "execution_count": 46,
   "metadata": {},
   "outputs": [
    {
     "name": "stdout",
     "output_type": "stream",
     "text": [
      "[[9.99250016e-01 7.49984089e-04]\n",
      " [9.99240201e-01 7.59799387e-04]\n",
      " [9.99230257e-01 7.69743043e-04]\n",
      " ...\n",
      " [3.08374822e-03 9.96916252e-01]\n",
      " [3.04400296e-03 9.96955997e-01]\n",
      " [3.00476842e-03 9.96995232e-01]]\n"
     ]
    },
    {
     "data": {
      "image/png": "[encoded data removed]",
      "text/plain": [
       "<Figure size 432x288 with 1 Axes>"
      ]
     },
     "metadata": {
      "needs_background": "light"
     },
     "output_type": "display_data"
    }
   ],
   "source": [
    "x_new = np.linspace(0,3,1000).reshape(-1,1) #0부터 3까지 1000개의 값을 만든다\n",
    "\n",
    "\n",
    "y_proba = log_reg.predict_proba(x_new)\n",
    "\n",
    "print(y_proba)\n",
    "\n",
    "#그래프 구축\n",
    "plt.plot(x_new, y_proba[:, 1], 'g-', label = 'iris_virginica')\n",
    "plt.plot(x_new, y_proba[:, 0], 'b--', label = 'not_iris_virginica')\n",
    "plt.ylabel('probability')\n",
    "plt.xlabel('petal_width')\n",
    "plt.legend()\n",
    "plt.show()"
   ]
  },
  {
   "cell_type": "markdown",
   "metadata": {},
   "source": [
    "predict_proba는 뭘까?\n",
    "\n",
    "아마 y_prob[:,1]은 해당 데이터를 1로 예측할 확률이고 [:,0]은 그 반대일 것 같다.\n"
   ]
  },
  {
   "cell_type": "code",
   "execution_count": 58,
   "metadata": {},
   "outputs": [
    {
     "name": "stdout",
     "output_type": "stream",
     "text": [
      "1.7의 값을 넣었을때 뭐라고 예측할 것인가? [1]\n",
      "1.7이 1로 예측될 확률 : [0.54277903]\n"
     ]
    }
   ],
   "source": [
    "print('1.7의 값을 넣었을때 뭐라고 예측할 것인가? {0}'.format(log_reg.predict([[1.7]])))\n",
    "print('1.7이 1로 예측될 확률 : {0}'.format(log_reg.predict_proba([[1.7]])[:,1]))"
   ]
  },
  {
   "cell_type": "markdown",
   "metadata": {},
   "source": [
    "뭔가 이 예시를 보니, 임계값은 기본으로 0.5로 들어가 있어서 위와 같이 예측하는 것 같다"
   ]
  },
  {
   "cell_type": "markdown",
   "metadata": {},
   "source": [
    "### 4.6.4 Softmax Regression"
   ]
  },
  {
   "cell_type": "code",
   "execution_count": 61,
   "metadata": {},
   "outputs": [
    {
     "data": {
      "text/plain": [
       "array([2])"
      ]
     },
     "execution_count": 61,
     "metadata": {},
     "output_type": "execute_result"
    }
   ],
   "source": [
    "#데이터 준비\n",
    "x = iris['data'][:, (2,3)] #꽃잎 길이와 꽃잎 너비\n",
    "y = iris['target']\n",
    "\n",
    "#모델 적합\n",
    "softmax_reg = LogisticRegression(multi_class = 'multinomial', solver = 'lbfgs', C = 10) \n",
    "\n",
    "#C는 서포트벡터 머신의 파라미터와 비슷, l2규제라고 한다(릿지). 작을수록 강한 규제\n",
    "#(Currently the 'multinomial' option is supported only by the 'lbfgs','sag', 'saga' and 'newton-cg' solvers.)\n",
    "\n",
    "softmax_reg.fit(x,y)\n",
    "\n",
    "#새로운 값 예측\n",
    "softmax_reg.predict([[5,2]])\n"
   ]
  },
  {
   "cell_type": "code",
   "execution_count": 62,
   "metadata": {},
   "outputs": [
    {
     "data": {
      "text/plain": [
       "array([[6.38014896e-07, 5.74929995e-02, 9.42506362e-01]])"
      ]
     },
     "execution_count": 62,
     "metadata": {},
     "output_type": "execute_result"
    }
   ],
   "source": [
    "softmax_reg.predict_proba([[5,2]])"
   ]
  },
  {
   "cell_type": "markdown",
   "metadata": {},
   "source": [
    "94.2%의 확률로 class : 2 (virginica)로 예측할 것이다 "
   ]
  },
  {
   "cell_type": "code",
   "execution_count": null,
   "metadata": {},
   "outputs": [],
   "source": []
  }
 ],
 "metadata": {
  "kernelspec": {
   "display_name": "Python 3",
   "language": "python",
   "name": "python3"
  },
  "language_info": {
   "codemirror_mode": {
    "name": "ipython",
    "version": 3
   },
   "file_extension": ".py",
   "mimetype": "text/x-python",
   "name": "python",
   "nbconvert_exporter": "python",
   "pygments_lexer": "ipython3",
   "version": "3.8.5"
  }
 },
 "nbformat": 4,
 "nbformat_minor": 4
}
