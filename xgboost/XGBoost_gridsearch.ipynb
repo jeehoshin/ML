{
 "cells": [
  {
   "cell_type": "markdown",
   "metadata": {},
   "source": [
    "### XGBoost"
   ]
  },
  {
   "cell_type": "markdown",
   "metadata": {},
   "source": [
    "  - 이제는 xgboost. 이 방법은 부트스트랩이 아닌 부스팅을 이용한다. 부트스트랩이 랜덤한 샘플을 여러개 뽑은 방법이라면,\n",
    "    부스팅은 병렬적이 아닌 연속적으로 진행한다는 점에서 그 차이점을 가진다. 즉 하나의 트리에서 시작하여 잔차를 계속해서\n",
    "    줄여나가는 방향으로 트리를 학습시키는 것이다.\n",
    "\n",
    "  - GBM은 역시 약한 트리를 만들어서 잔차를 줄여가는 방향으로 만들어지는 방법이다. 잔차를 최대한 줄이기 위한 잔차에 대한\n",
    "    모델링을 진행하고, 약한 트리로부터 최종적으로는 완벽한 트리를 만든다. 경사하강법이기때문에 최적의 에러지점을 뛰어넘지\n",
    "    않기 위해 약한 모델을 사용하는 것이다.\n",
    "\n",
    "  - XGB는 이러한 GBM 모델을 발전시킨 것. 다양한 파라미터를 조정할 수 있고 NA를 자동처리해주고, sparse\n",
    "    matrix를 처리해주고, information gain을 사용해 classification 할때 좋다고 한다.\n",
    "\n",
    "  - Loss function + regularization function으로 objective function가 구성돼\n",
    "    있다. Lossfunction은 뭐 MSE나 로지스틱 리그레션 등이 있다.\n",
    "\n",
    "  - 그 다음 최적화 방식(손실함수의 결과 값을 최소화하는 방법)으로는 경사하강법을 사용하는 것"
   ]
  },
  {
   "cell_type": "markdown",
   "metadata": {},
   "source": [
    "**튜닝할 수 있는 파라미터들은 다음과 같다**\n",
    "\n",
    "> 1)  max/_depth : 라운드 한개당 만들어지는 나무의 깊이/! 나무가 깊어질수록 복잡도가 증가하여 분산이 증가하고\n",
    ">     **오버피팅**이 발생할 수 있다고 한다.. 디폴트 값은 6이고 1부터 무한까지 값을 가진다.\n",
    "\n",
    "> 2)  min/_child/_weight : 라운드당 한 트리의 마지막 노드에 남는 obs의 개수 혹은 IG(가중치)의 양/!\n",
    ">     클수록 분산은 down, 편향은 up default : 1\n",
    "\n",
    "> 3)  eta : Learning rate(학습률), 작을수록 더 촘촘하게 최적점을 찾아 내려간다.(경사하강법),\n",
    ">     default : 0.3 이걸 줄이면 nround는 늘려야 한다\n",
    "\n",
    "> 4)  gamma : 손실함수를 조정하는 파라미터 default : 0(정규화 안해/!) 그리고 lambda(L2\n",
    ">     regression, 디폴트는 1), alpha(L1 regression, 디폴트는 0)도 정규화 파라미터로 존재한다.\n",
    "\n",
    "> 5)  nrounds : 최대 반복 횟수. 아까 말했듯 많이 하면 할수록 성능은 좋아지나 overfitting/!/!/!\n",
    ">     default : 100. early stopping rounds 변수로 overfitting을 조정 가능하다.\n",
    "\n",
    "> 6)  early/_stopping/_rounds : CV 할 때 이용 가능, 최적의 error를 가진 라운드 선정 ,\n",
    ">     Validation error 가 지정한 라운드가 지나도록 감소하지 않으면 학습을 중단하고 최적의 validation\n",
    ">     error가 나온 round 선정. (nrounds를 굉장히 크게 지정하고 early stopping rounds로\n",
    ">     overfitting 방지)\n",
    "\n",
    "> 7)  colsample/_bytree : 매 반복 시 추출할 열의 비율. 0/~1이고 default는 1\n",
    "\n",
    "> 8)  subsample : 샘플링하는 obs의 비율, default : 1\n",
    "\n",
    "> 9)  eval/_metric : 평가지표/! rmse,mae, logloss , error(Binary\n",
    ">     classification error rate (0.5 threshold), merror – Multiclass\n",
    ">     classification error rate, mlogloss – Multiclass logloss, auc -\n",
    ">     Area under the curve\n"
   ]
  },
  {
   "cell_type": "code",
   "execution_count": 37,
   "metadata": {},
   "outputs": [],
   "source": [
    "import xgboost as xgb\n",
    "import pandas as pd\n",
    "import numpy as np\n",
    "import matplotlib.pyplot as plt\n",
    "import seaborn as sns\n",
    "import warnings\n",
    "from sklearn.model_selection import GridSearchCV\n",
    "from sklearn.model_selection import train_test_split\n",
    "from sklearn.model_selection import cross_val_score\n",
    "from sklearn import metrics"
   ]
  },
  {
   "cell_type": "markdown",
   "metadata": {},
   "source": [
    "#### 1) Data scan"
   ]
  },
  {
   "cell_type": "code",
   "execution_count": 2,
   "metadata": {},
   "outputs": [
    {
     "data": {
      "text/html": [
       "<div>\n",
       "<style scoped>\n",
       "    .dataframe tbody tr th:only-of-type {\n",
       "        vertical-align: middle;\n",
       "    }\n",
       "\n",
       "    .dataframe tbody tr th {\n",
       "        vertical-align: top;\n",
       "    }\n",
       "\n",
       "    .dataframe thead th {\n",
       "        text-align: right;\n",
       "    }\n",
       "</style>\n",
       "<table border=\"1\" class=\"dataframe\">\n",
       "  <thead>\n",
       "    <tr style=\"text-align: right;\">\n",
       "      <th></th>\n",
       "      <th>school</th>\n",
       "      <th>sex</th>\n",
       "      <th>age</th>\n",
       "      <th>address</th>\n",
       "      <th>famsize</th>\n",
       "      <th>Pstatus</th>\n",
       "      <th>Medu</th>\n",
       "      <th>Fedu</th>\n",
       "      <th>Mjob</th>\n",
       "      <th>Fjob</th>\n",
       "      <th>...</th>\n",
       "      <th>famrel</th>\n",
       "      <th>freetime</th>\n",
       "      <th>goout</th>\n",
       "      <th>Dalc</th>\n",
       "      <th>Walc</th>\n",
       "      <th>health</th>\n",
       "      <th>absences</th>\n",
       "      <th>G1</th>\n",
       "      <th>G2</th>\n",
       "      <th>G3</th>\n",
       "    </tr>\n",
       "  </thead>\n",
       "  <tbody>\n",
       "    <tr>\n",
       "      <th>1</th>\n",
       "      <td>GP</td>\n",
       "      <td>F</td>\n",
       "      <td>18</td>\n",
       "      <td>U</td>\n",
       "      <td>GT3</td>\n",
       "      <td>A</td>\n",
       "      <td>4</td>\n",
       "      <td>4</td>\n",
       "      <td>at_home</td>\n",
       "      <td>teacher</td>\n",
       "      <td>...</td>\n",
       "      <td>4</td>\n",
       "      <td>3</td>\n",
       "      <td>4</td>\n",
       "      <td>1</td>\n",
       "      <td>1</td>\n",
       "      <td>3</td>\n",
       "      <td>6</td>\n",
       "      <td>5</td>\n",
       "      <td>6</td>\n",
       "      <td>6</td>\n",
       "    </tr>\n",
       "    <tr>\n",
       "      <th>2</th>\n",
       "      <td>GP</td>\n",
       "      <td>F</td>\n",
       "      <td>17</td>\n",
       "      <td>U</td>\n",
       "      <td>GT3</td>\n",
       "      <td>T</td>\n",
       "      <td>1</td>\n",
       "      <td>1</td>\n",
       "      <td>at_home</td>\n",
       "      <td>other</td>\n",
       "      <td>...</td>\n",
       "      <td>5</td>\n",
       "      <td>3</td>\n",
       "      <td>3</td>\n",
       "      <td>1</td>\n",
       "      <td>1</td>\n",
       "      <td>3</td>\n",
       "      <td>4</td>\n",
       "      <td>5</td>\n",
       "      <td>5</td>\n",
       "      <td>6</td>\n",
       "    </tr>\n",
       "    <tr>\n",
       "      <th>3</th>\n",
       "      <td>GP</td>\n",
       "      <td>F</td>\n",
       "      <td>15</td>\n",
       "      <td>U</td>\n",
       "      <td>LE3</td>\n",
       "      <td>T</td>\n",
       "      <td>1</td>\n",
       "      <td>1</td>\n",
       "      <td>at_home</td>\n",
       "      <td>other</td>\n",
       "      <td>...</td>\n",
       "      <td>4</td>\n",
       "      <td>3</td>\n",
       "      <td>2</td>\n",
       "      <td>2</td>\n",
       "      <td>3</td>\n",
       "      <td>3</td>\n",
       "      <td>10</td>\n",
       "      <td>7</td>\n",
       "      <td>8</td>\n",
       "      <td>10</td>\n",
       "    </tr>\n",
       "    <tr>\n",
       "      <th>4</th>\n",
       "      <td>GP</td>\n",
       "      <td>F</td>\n",
       "      <td>15</td>\n",
       "      <td>U</td>\n",
       "      <td>GT3</td>\n",
       "      <td>T</td>\n",
       "      <td>4</td>\n",
       "      <td>2</td>\n",
       "      <td>health</td>\n",
       "      <td>services</td>\n",
       "      <td>...</td>\n",
       "      <td>3</td>\n",
       "      <td>2</td>\n",
       "      <td>2</td>\n",
       "      <td>1</td>\n",
       "      <td>1</td>\n",
       "      <td>5</td>\n",
       "      <td>2</td>\n",
       "      <td>15</td>\n",
       "      <td>14</td>\n",
       "      <td>15</td>\n",
       "    </tr>\n",
       "    <tr>\n",
       "      <th>5</th>\n",
       "      <td>GP</td>\n",
       "      <td>F</td>\n",
       "      <td>16</td>\n",
       "      <td>U</td>\n",
       "      <td>GT3</td>\n",
       "      <td>T</td>\n",
       "      <td>3</td>\n",
       "      <td>3</td>\n",
       "      <td>other</td>\n",
       "      <td>other</td>\n",
       "      <td>...</td>\n",
       "      <td>4</td>\n",
       "      <td>3</td>\n",
       "      <td>2</td>\n",
       "      <td>1</td>\n",
       "      <td>2</td>\n",
       "      <td>5</td>\n",
       "      <td>4</td>\n",
       "      <td>6</td>\n",
       "      <td>10</td>\n",
       "      <td>10</td>\n",
       "    </tr>\n",
       "  </tbody>\n",
       "</table>\n",
       "<p>5 rows × 33 columns</p>\n",
       "</div>"
      ],
      "text/plain": [
       "  school sex  age address famsize Pstatus  Medu  Fedu     Mjob      Fjob  ...  \\\n",
       "1     GP   F   18       U     GT3       A     4     4  at_home   teacher  ...   \n",
       "2     GP   F   17       U     GT3       T     1     1  at_home     other  ...   \n",
       "3     GP   F   15       U     LE3       T     1     1  at_home     other  ...   \n",
       "4     GP   F   15       U     GT3       T     4     2   health  services  ...   \n",
       "5     GP   F   16       U     GT3       T     3     3    other     other  ...   \n",
       "\n",
       "  famrel freetime  goout  Dalc  Walc health absences  G1  G2  G3  \n",
       "1      4        3      4     1     1      3        6   5   6   6  \n",
       "2      5        3      3     1     1      3        4   5   5   6  \n",
       "3      4        3      2     2     3      3       10   7   8  10  \n",
       "4      3        2      2     1     1      5        2  15  14  15  \n",
       "5      4        3      2     1     2      5        4   6  10  10  \n",
       "\n",
       "[5 rows x 33 columns]"
      ]
     },
     "execution_count": 2,
     "metadata": {},
     "output_type": "execute_result"
    }
   ],
   "source": [
    "score = pd.read_csv(\"C:/Users/jiho0/Desktop/Data_Analysis/(p-sat)package/2018_2/week4/scores.csv\", index_col = 0)\n",
    "score.head(5)"
   ]
  },
  {
   "cell_type": "code",
   "execution_count": 3,
   "metadata": {},
   "outputs": [
    {
     "name": "stdout",
     "output_type": "stream",
     "text": [
      "<class 'pandas.core.frame.DataFrame'>\n",
      "Int64Index: 1044 entries, 1 to 1044\n",
      "Data columns (total 33 columns):\n",
      " #   Column      Non-Null Count  Dtype \n",
      "---  ------      --------------  ----- \n",
      " 0   school      1044 non-null   object\n",
      " 1   sex         1044 non-null   object\n",
      " 2   age         1044 non-null   int64 \n",
      " 3   address     1044 non-null   object\n",
      " 4   famsize     1044 non-null   object\n",
      " 5   Pstatus     1044 non-null   object\n",
      " 6   Medu        1044 non-null   int64 \n",
      " 7   Fedu        1044 non-null   int64 \n",
      " 8   Mjob        1044 non-null   object\n",
      " 9   Fjob        1044 non-null   object\n",
      " 10  reason      1044 non-null   object\n",
      " 11  guardian    1044 non-null   object\n",
      " 12  traveltime  1044 non-null   int64 \n",
      " 13  studytime   1044 non-null   int64 \n",
      " 14  failures    1044 non-null   int64 \n",
      " 15  schoolsup   1044 non-null   object\n",
      " 16  famsup      1044 non-null   object\n",
      " 17  paid        1044 non-null   object\n",
      " 18  activities  1044 non-null   object\n",
      " 19  nursery     1044 non-null   object\n",
      " 20  higher      1044 non-null   object\n",
      " 21  internet    1044 non-null   object\n",
      " 22  romantic    1044 non-null   object\n",
      " 23  famrel      1044 non-null   int64 \n",
      " 24  freetime    1044 non-null   int64 \n",
      " 25  goout       1044 non-null   int64 \n",
      " 26  Dalc        1044 non-null   int64 \n",
      " 27  Walc        1044 non-null   int64 \n",
      " 28  health      1044 non-null   int64 \n",
      " 29  absences    1044 non-null   int64 \n",
      " 30  G1          1044 non-null   int64 \n",
      " 31  G2          1044 non-null   int64 \n",
      " 32  G3          1044 non-null   int64 \n",
      "dtypes: int64(16), object(17)\n",
      "memory usage: 277.3+ KB\n"
     ]
    }
   ],
   "source": [
    "score.info()"
   ]
  },
  {
   "cell_type": "code",
   "execution_count": 4,
   "metadata": {},
   "outputs": [
    {
     "data": {
      "text/html": [
       "<div>\n",
       "<style scoped>\n",
       "    .dataframe tbody tr th:only-of-type {\n",
       "        vertical-align: middle;\n",
       "    }\n",
       "\n",
       "    .dataframe tbody tr th {\n",
       "        vertical-align: top;\n",
       "    }\n",
       "\n",
       "    .dataframe thead th {\n",
       "        text-align: right;\n",
       "    }\n",
       "</style>\n",
       "<table border=\"1\" class=\"dataframe\">\n",
       "  <thead>\n",
       "    <tr style=\"text-align: right;\">\n",
       "      <th></th>\n",
       "      <th>age</th>\n",
       "      <th>Medu</th>\n",
       "      <th>Fedu</th>\n",
       "      <th>traveltime</th>\n",
       "      <th>studytime</th>\n",
       "      <th>failures</th>\n",
       "      <th>famrel</th>\n",
       "      <th>freetime</th>\n",
       "      <th>goout</th>\n",
       "      <th>Dalc</th>\n",
       "      <th>Walc</th>\n",
       "      <th>health</th>\n",
       "      <th>absences</th>\n",
       "      <th>G1</th>\n",
       "      <th>G2</th>\n",
       "      <th>G3</th>\n",
       "    </tr>\n",
       "  </thead>\n",
       "  <tbody>\n",
       "    <tr>\n",
       "      <th>count</th>\n",
       "      <td>1044.000000</td>\n",
       "      <td>1044.000000</td>\n",
       "      <td>1044.000000</td>\n",
       "      <td>1044.000000</td>\n",
       "      <td>1044.000000</td>\n",
       "      <td>1044.000000</td>\n",
       "      <td>1044.000000</td>\n",
       "      <td>1044.000000</td>\n",
       "      <td>1044.000000</td>\n",
       "      <td>1044.000000</td>\n",
       "      <td>1044.000000</td>\n",
       "      <td>1044.000000</td>\n",
       "      <td>1044.000000</td>\n",
       "      <td>1044.000000</td>\n",
       "      <td>1044.000000</td>\n",
       "      <td>1044.000000</td>\n",
       "    </tr>\n",
       "    <tr>\n",
       "      <th>mean</th>\n",
       "      <td>16.726054</td>\n",
       "      <td>2.603448</td>\n",
       "      <td>2.387931</td>\n",
       "      <td>1.522989</td>\n",
       "      <td>1.970307</td>\n",
       "      <td>0.264368</td>\n",
       "      <td>3.935824</td>\n",
       "      <td>3.201149</td>\n",
       "      <td>3.156130</td>\n",
       "      <td>1.494253</td>\n",
       "      <td>2.284483</td>\n",
       "      <td>3.543103</td>\n",
       "      <td>4.434866</td>\n",
       "      <td>11.213602</td>\n",
       "      <td>11.246169</td>\n",
       "      <td>11.341954</td>\n",
       "    </tr>\n",
       "    <tr>\n",
       "      <th>std</th>\n",
       "      <td>1.239975</td>\n",
       "      <td>1.124907</td>\n",
       "      <td>1.099938</td>\n",
       "      <td>0.731727</td>\n",
       "      <td>0.834353</td>\n",
       "      <td>0.656142</td>\n",
       "      <td>0.933401</td>\n",
       "      <td>1.031507</td>\n",
       "      <td>1.152575</td>\n",
       "      <td>0.911714</td>\n",
       "      <td>1.285105</td>\n",
       "      <td>1.424703</td>\n",
       "      <td>6.210017</td>\n",
       "      <td>2.983394</td>\n",
       "      <td>3.285071</td>\n",
       "      <td>3.864796</td>\n",
       "    </tr>\n",
       "    <tr>\n",
       "      <th>min</th>\n",
       "      <td>15.000000</td>\n",
       "      <td>0.000000</td>\n",
       "      <td>0.000000</td>\n",
       "      <td>1.000000</td>\n",
       "      <td>1.000000</td>\n",
       "      <td>0.000000</td>\n",
       "      <td>1.000000</td>\n",
       "      <td>1.000000</td>\n",
       "      <td>1.000000</td>\n",
       "      <td>1.000000</td>\n",
       "      <td>1.000000</td>\n",
       "      <td>1.000000</td>\n",
       "      <td>0.000000</td>\n",
       "      <td>0.000000</td>\n",
       "      <td>0.000000</td>\n",
       "      <td>0.000000</td>\n",
       "    </tr>\n",
       "    <tr>\n",
       "      <th>25%</th>\n",
       "      <td>16.000000</td>\n",
       "      <td>2.000000</td>\n",
       "      <td>1.000000</td>\n",
       "      <td>1.000000</td>\n",
       "      <td>1.000000</td>\n",
       "      <td>0.000000</td>\n",
       "      <td>4.000000</td>\n",
       "      <td>3.000000</td>\n",
       "      <td>2.000000</td>\n",
       "      <td>1.000000</td>\n",
       "      <td>1.000000</td>\n",
       "      <td>3.000000</td>\n",
       "      <td>0.000000</td>\n",
       "      <td>9.000000</td>\n",
       "      <td>9.000000</td>\n",
       "      <td>10.000000</td>\n",
       "    </tr>\n",
       "    <tr>\n",
       "      <th>50%</th>\n",
       "      <td>17.000000</td>\n",
       "      <td>3.000000</td>\n",
       "      <td>2.000000</td>\n",
       "      <td>1.000000</td>\n",
       "      <td>2.000000</td>\n",
       "      <td>0.000000</td>\n",
       "      <td>4.000000</td>\n",
       "      <td>3.000000</td>\n",
       "      <td>3.000000</td>\n",
       "      <td>1.000000</td>\n",
       "      <td>2.000000</td>\n",
       "      <td>4.000000</td>\n",
       "      <td>2.000000</td>\n",
       "      <td>11.000000</td>\n",
       "      <td>11.000000</td>\n",
       "      <td>11.000000</td>\n",
       "    </tr>\n",
       "    <tr>\n",
       "      <th>75%</th>\n",
       "      <td>18.000000</td>\n",
       "      <td>4.000000</td>\n",
       "      <td>3.000000</td>\n",
       "      <td>2.000000</td>\n",
       "      <td>2.000000</td>\n",
       "      <td>0.000000</td>\n",
       "      <td>5.000000</td>\n",
       "      <td>4.000000</td>\n",
       "      <td>4.000000</td>\n",
       "      <td>2.000000</td>\n",
       "      <td>3.000000</td>\n",
       "      <td>5.000000</td>\n",
       "      <td>6.000000</td>\n",
       "      <td>13.000000</td>\n",
       "      <td>13.000000</td>\n",
       "      <td>14.000000</td>\n",
       "    </tr>\n",
       "    <tr>\n",
       "      <th>max</th>\n",
       "      <td>22.000000</td>\n",
       "      <td>4.000000</td>\n",
       "      <td>4.000000</td>\n",
       "      <td>4.000000</td>\n",
       "      <td>4.000000</td>\n",
       "      <td>3.000000</td>\n",
       "      <td>5.000000</td>\n",
       "      <td>5.000000</td>\n",
       "      <td>5.000000</td>\n",
       "      <td>5.000000</td>\n",
       "      <td>5.000000</td>\n",
       "      <td>5.000000</td>\n",
       "      <td>75.000000</td>\n",
       "      <td>19.000000</td>\n",
       "      <td>19.000000</td>\n",
       "      <td>20.000000</td>\n",
       "    </tr>\n",
       "  </tbody>\n",
       "</table>\n",
       "</div>"
      ],
      "text/plain": [
       "               age         Medu         Fedu   traveltime    studytime  \\\n",
       "count  1044.000000  1044.000000  1044.000000  1044.000000  1044.000000   \n",
       "mean     16.726054     2.603448     2.387931     1.522989     1.970307   \n",
       "std       1.239975     1.124907     1.099938     0.731727     0.834353   \n",
       "min      15.000000     0.000000     0.000000     1.000000     1.000000   \n",
       "25%      16.000000     2.000000     1.000000     1.000000     1.000000   \n",
       "50%      17.000000     3.000000     2.000000     1.000000     2.000000   \n",
       "75%      18.000000     4.000000     3.000000     2.000000     2.000000   \n",
       "max      22.000000     4.000000     4.000000     4.000000     4.000000   \n",
       "\n",
       "          failures       famrel     freetime        goout         Dalc  \\\n",
       "count  1044.000000  1044.000000  1044.000000  1044.000000  1044.000000   \n",
       "mean      0.264368     3.935824     3.201149     3.156130     1.494253   \n",
       "std       0.656142     0.933401     1.031507     1.152575     0.911714   \n",
       "min       0.000000     1.000000     1.000000     1.000000     1.000000   \n",
       "25%       0.000000     4.000000     3.000000     2.000000     1.000000   \n",
       "50%       0.000000     4.000000     3.000000     3.000000     1.000000   \n",
       "75%       0.000000     5.000000     4.000000     4.000000     2.000000   \n",
       "max       3.000000     5.000000     5.000000     5.000000     5.000000   \n",
       "\n",
       "              Walc       health     absences           G1           G2  \\\n",
       "count  1044.000000  1044.000000  1044.000000  1044.000000  1044.000000   \n",
       "mean      2.284483     3.543103     4.434866    11.213602    11.246169   \n",
       "std       1.285105     1.424703     6.210017     2.983394     3.285071   \n",
       "min       1.000000     1.000000     0.000000     0.000000     0.000000   \n",
       "25%       1.000000     3.000000     0.000000     9.000000     9.000000   \n",
       "50%       2.000000     4.000000     2.000000    11.000000    11.000000   \n",
       "75%       3.000000     5.000000     6.000000    13.000000    13.000000   \n",
       "max       5.000000     5.000000    75.000000    19.000000    19.000000   \n",
       "\n",
       "                G3  \n",
       "count  1044.000000  \n",
       "mean     11.341954  \n",
       "std       3.864796  \n",
       "min       0.000000  \n",
       "25%      10.000000  \n",
       "50%      11.000000  \n",
       "75%      14.000000  \n",
       "max      20.000000  "
      ]
     },
     "execution_count": 4,
     "metadata": {},
     "output_type": "execute_result"
    }
   ],
   "source": [
    "score.describe()"
   ]
  },
  {
   "cell_type": "code",
   "execution_count": 5,
   "metadata": {},
   "outputs": [
    {
     "data": {
      "image/png": "[encoded data removed]",
      "text/plain": [
       "<Figure size 720x720 with 2 Axes>"
      ]
     },
     "metadata": {
      "needs_background": "light"
     },
     "output_type": "display_data"
    }
   ],
   "source": [
    "plt.figure(figsize = (10,10))\n",
    "\n",
    "\n",
    "ax = sns.heatmap(score.corr(), annot = True, fmt = '.2f', linewidths = 0.5, square = True,   cmap= 'Blues')\n",
    "\n",
    "ax.set_xticklabels(\n",
    "    ax.get_xticklabels(), rotation = 45,horizontalalignment='right' )\n",
    "\n",
    "plt.show()"
   ]
  },
  {
   "cell_type": "markdown",
   "metadata": {},
   "source": [
    "흠 저 G1 G2 G3의 correlation이 상당히 높으므로 PCA를 진행해보자."
   ]
  },
  {
   "cell_type": "markdown",
   "metadata": {},
   "source": [
    "#### 2) PCA - correlation 해결"
   ]
  },
  {
   "cell_type": "markdown",
   "metadata": {},
   "source": [
    "근데 우리가 예측하려는 target값인데 PCA로 왜곡을 줘도 되는 건가?\n",
    "일단 진행해보자"
   ]
  },
  {
   "cell_type": "code",
   "execution_count": 6,
   "metadata": {},
   "outputs": [
    {
     "data": {
      "text/plain": [
       "array([0.91162156, 0.97264198, 1.        ])"
      ]
     },
     "execution_count": 6,
     "metadata": {},
     "output_type": "execute_result"
    }
   ],
   "source": [
    "from sklearn.decomposition import PCA\n",
    "# import plotly.express as px\n",
    "\n",
    "pca = PCA()\n",
    "pca.fit(score[['G1', 'G2', 'G3']])\n",
    "\n",
    "exp_var_cumul = np.cumsum(pca.explained_variance_ratio_)\n",
    "exp_var_cumul\n",
    "#하나의 PC로 세 데이터의 분산을 91%나 설명할 수 있다. 생각보다 성능이 좋은듯"
   ]
  },
  {
   "cell_type": "code",
   "execution_count": 7,
   "metadata": {},
   "outputs": [
    {
     "data": {
      "text/html": [
       "<div>\n",
       "<style scoped>\n",
       "    .dataframe tbody tr th:only-of-type {\n",
       "        vertical-align: middle;\n",
       "    }\n",
       "\n",
       "    .dataframe tbody tr th {\n",
       "        vertical-align: top;\n",
       "    }\n",
       "\n",
       "    .dataframe thead th {\n",
       "        text-align: right;\n",
       "    }\n",
       "</style>\n",
       "<table border=\"1\" class=\"dataframe\">\n",
       "  <thead>\n",
       "    <tr style=\"text-align: right;\">\n",
       "      <th></th>\n",
       "      <th>PC1</th>\n",
       "    </tr>\n",
       "  </thead>\n",
       "  <tbody>\n",
       "    <tr>\n",
       "      <th>count</th>\n",
       "      <td>1.044000e+03</td>\n",
       "    </tr>\n",
       "    <tr>\n",
       "      <th>mean</th>\n",
       "      <td>6.562439e-16</td>\n",
       "    </tr>\n",
       "    <tr>\n",
       "      <th>std</th>\n",
       "      <td>5.618587e+00</td>\n",
       "    </tr>\n",
       "    <tr>\n",
       "      <th>min</th>\n",
       "      <td>-1.393681e+01</td>\n",
       "    </tr>\n",
       "    <tr>\n",
       "      <th>25%</th>\n",
       "      <td>-3.630598e+00</td>\n",
       "    </tr>\n",
       "    <tr>\n",
       "      <th>50%</th>\n",
       "      <td>-1.379049e-02</td>\n",
       "    </tr>\n",
       "    <tr>\n",
       "      <th>75%</th>\n",
       "      <td>3.240208e+00</td>\n",
       "    </tr>\n",
       "    <tr>\n",
       "      <th>max</th>\n",
       "      <td>1.742698e+01</td>\n",
       "    </tr>\n",
       "  </tbody>\n",
       "</table>\n",
       "</div>"
      ],
      "text/plain": [
       "                PC1\n",
       "count  1.044000e+03\n",
       "mean   6.562439e-16\n",
       "std    5.618587e+00\n",
       "min   -1.393681e+01\n",
       "25%   -3.630598e+00\n",
       "50%   -1.379049e-02\n",
       "75%    3.240208e+00\n",
       "max    1.742698e+01"
      ]
     },
     "execution_count": 7,
     "metadata": {},
     "output_type": "execute_result"
    }
   ],
   "source": [
    "pca = PCA(n_components=1)\n",
    "pca_fit = pca.fit_transform(score[['G1', 'G2', 'G3']])\n",
    "pca_fit_data = pd.DataFrame(data = pca_fit, columns = ['PC1'])\n",
    "pca_fit_data.describe()\n",
    "#음수값이 나와서 안될 것 같다."
   ]
  },
  {
   "cell_type": "markdown",
   "metadata": {},
   "source": [
    "#### 3) 데이터 전처리"
   ]
  },
  {
   "cell_type": "code",
   "execution_count": 8,
   "metadata": {},
   "outputs": [
    {
     "name": "stdout",
     "output_type": "stream",
     "text": [
      "Index(['age', 'Medu', 'Fedu', 'traveltime', 'studytime', 'failures', 'famrel',\n",
      "       'freetime', 'goout', 'Dalc', 'Walc', 'health', 'absences', 'G1', 'G2',\n",
      "       'G3', 'school_MS', 'sex_M', 'address_U', 'famsize_LE3', 'Pstatus_T',\n",
      "       'Mjob_health', 'Mjob_other', 'Mjob_services', 'Mjob_teacher',\n",
      "       'Fjob_health', 'Fjob_other', 'Fjob_services', 'Fjob_teacher',\n",
      "       'reason_home', 'reason_other', 'reason_reputation', 'guardian_mother',\n",
      "       'guardian_other', 'schoolsup_yes', 'famsup_yes', 'paid_yes',\n",
      "       'activities_yes', 'nursery_yes', 'higher_yes', 'internet_yes',\n",
      "       'romantic_yes'],\n",
      "      dtype='object')\n"
     ]
    }
   ],
   "source": [
    "#더미변수화 \n",
    "score1 = pd.get_dummies(score, drop_first = True, dtype= 'int64')\n",
    "\n",
    "score1.head(5)\n",
    "print(score1.columns)"
   ]
  },
  {
   "cell_type": "code",
   "execution_count": 9,
   "metadata": {},
   "outputs": [
    {
     "name": "stdout",
     "output_type": "stream",
     "text": [
      "<class 'pandas.core.frame.DataFrame'>\n",
      "Int64Index: 1044 entries, 1 to 1044\n",
      "Data columns (total 42 columns):\n",
      " #   Column             Non-Null Count  Dtype\n",
      "---  ------             --------------  -----\n",
      " 0   age                1044 non-null   int64\n",
      " 1   Medu               1044 non-null   int64\n",
      " 2   Fedu               1044 non-null   int64\n",
      " 3   traveltime         1044 non-null   int64\n",
      " 4   studytime          1044 non-null   int64\n",
      " 5   failures           1044 non-null   int64\n",
      " 6   famrel             1044 non-null   int64\n",
      " 7   freetime           1044 non-null   int64\n",
      " 8   goout              1044 non-null   int64\n",
      " 9   Dalc               1044 non-null   int64\n",
      " 10  Walc               1044 non-null   int64\n",
      " 11  health             1044 non-null   int64\n",
      " 12  absences           1044 non-null   int64\n",
      " 13  G1                 1044 non-null   int64\n",
      " 14  G2                 1044 non-null   int64\n",
      " 15  G3                 1044 non-null   int64\n",
      " 16  school_MS          1044 non-null   int64\n",
      " 17  sex_M              1044 non-null   int64\n",
      " 18  address_U          1044 non-null   int64\n",
      " 19  famsize_LE3        1044 non-null   int64\n",
      " 20  Pstatus_T          1044 non-null   int64\n",
      " 21  Mjob_health        1044 non-null   int64\n",
      " 22  Mjob_other         1044 non-null   int64\n",
      " 23  Mjob_services      1044 non-null   int64\n",
      " 24  Mjob_teacher       1044 non-null   int64\n",
      " 25  Fjob_health        1044 non-null   int64\n",
      " 26  Fjob_other         1044 non-null   int64\n",
      " 27  Fjob_services      1044 non-null   int64\n",
      " 28  Fjob_teacher       1044 non-null   int64\n",
      " 29  reason_home        1044 non-null   int64\n",
      " 30  reason_other       1044 non-null   int64\n",
      " 31  reason_reputation  1044 non-null   int64\n",
      " 32  guardian_mother    1044 non-null   int64\n",
      " 33  guardian_other     1044 non-null   int64\n",
      " 34  schoolsup_yes      1044 non-null   int64\n",
      " 35  famsup_yes         1044 non-null   int64\n",
      " 36  paid_yes           1044 non-null   int64\n",
      " 37  activities_yes     1044 non-null   int64\n",
      " 38  nursery_yes        1044 non-null   int64\n",
      " 39  higher_yes         1044 non-null   int64\n",
      " 40  internet_yes       1044 non-null   int64\n",
      " 41  romantic_yes       1044 non-null   int64\n",
      "dtypes: int64(42)\n",
      "memory usage: 350.7 KB\n"
     ]
    }
   ],
   "source": [
    "score1.info()"
   ]
  },
  {
   "cell_type": "code",
   "execution_count": 10,
   "metadata": {},
   "outputs": [
    {
     "data": {
      "text/plain": [
       "G1    0.809142\n",
       "G2    0.910743\n",
       "G3    1.000000\n",
       "dtype: float64"
      ]
     },
     "execution_count": 10,
     "metadata": {},
     "output_type": "execute_result"
    }
   ],
   "source": [
    "#상관관계 분석\n",
    "score1.corrwith(score1['G3'])[score1.corrwith(score1['G3']) > 0.7]"
   ]
  },
  {
   "cell_type": "markdown",
   "metadata": {},
   "source": [
    "G1과 G2는 상관성이 상당히 뚜렷하므로 제외하고 데이터를 분석"
   ]
  },
  {
   "cell_type": "code",
   "execution_count": 11,
   "metadata": {},
   "outputs": [],
   "source": [
    "score2 = score1.drop(['G1' ,'G2'], axis = 1)"
   ]
  },
  {
   "cell_type": "code",
   "execution_count": 12,
   "metadata": {},
   "outputs": [],
   "source": [
    "x, y = score1.drop(['G3'], axis = 1), score['G3']"
   ]
  },
  {
   "cell_type": "code",
   "execution_count": 13,
   "metadata": {},
   "outputs": [
    {
     "name": "stdout",
     "output_type": "stream",
     "text": [
      "train_Data's shape : (730, 41)\n",
      "train_label's shape : (730,)\n",
      "holdout_data's shape : (314, 41)\n",
      "holdout_label's shape : (314,)\n"
     ]
    }
   ],
   "source": [
    "train_data, holdout_data, train_label, holdout_label = train_test_split(x, y, test_size = 0.3,\n",
    "                                                                       random_state = 1234)\n",
    "print(\"train_Data's shape : {0}\".format(train_data.shape))\n",
    "print(\"train_label's shape : {0}\".format(train_label.shape))\n",
    "print(\"holdout_data's shape : {0}\".format(holdout_data.shape))\n",
    "print(\"holdout_label's shape : {0}\".format(holdout_label.shape))\n",
    "\n",
    "#xgb용 데이터로 만들어준다.\n",
    "train_set = xgb.DMatrix(data = train_data, label = train_label)\n",
    "holdout_set = xgb.DMatrix(data = holdout_data, label = holdout_label)"
   ]
  },
  {
   "cell_type": "markdown",
   "metadata": {},
   "source": [
    "> xgb.cv() : 주어진 하나의 파라미터로 cv를 돌려서 결과값을 내주는 것인데, ealry_stopping_rounds를 통해서 어느정도의 n_estimator가 적절한지 판단할 수 있다.\n",
    "\n",
    "> cross_val_score : 내가 원했던 것. GridSearchCV로 찾았던 파라미터를 넣었을때 어떤 CV_mean_error가 도출되는지 나오게 된다.\n",
    "\n",
    "> GridSearchCV : 내가 원하는 gridsearch를 진행!\n"
   ]
  },
  {
   "cell_type": "markdown",
   "metadata": {},
   "source": [
    "<span style=\"color:blue\">\n",
    "    \n",
    "주의해야 할 것은 같은 파라미터를 넣어도 xgb.cv()와 GridSearchCV의 값이 다르게 나온다는 것이다.(그리드 서치의 값을 하나의 값만 넣어줌에도 불구하고...\n",
    "\n",
    "아마 디폴트로 지정된 값이 다르거나, seed가 달라서 다른 cv가 생성되는 것일 수 있다.\n",
    "   \n",
    "</span>"
   ]
  },
  {
   "cell_type": "markdown",
   "metadata": {},
   "source": [
    "#### 4-1) GridSearch로 parameter tuning"
   ]
  },
  {
   "cell_type": "markdown",
   "metadata": {},
   "source": [
    "파라미터 튜닝은 한번에 하는 방법도 있지만, 한 블로그에선 좋은 기준을 만들어서 제공하고 있었다.\n",
    "대충 기준은 \n",
    "1) learning rate 하나를 잡고, 거기에 최적화된 n_estimators(tree의 개수)를 찾는다.\n",
    "> 0.1도 되긴 하는데 보통 0.05부터 0.3 정도를 잡는다고 한다.\n",
    "> n_estimators : Number of gradient boosted trees. Equivalent to number of boosting rounds.\n",
    "\n",
    "2) (tree-specific parameter) max_depth와 min_child_weight\n",
    ">  이 두개가 큰 영향을 미친다고 한다. \n",
    "> max_depth는 3 ~ 10 정도에서 튜닝! min_child_weight도 1~6정도로 튜닝한다.\n",
    "\n",
    "3) (정규화 파라미터)gamma를 튜닝한다.\n",
    "\n",
    "4) subsample과 colsample_bytree를 튜닝한다.\n",
    "> 한번에 뽑는 샘플의 %와, 사용하는 변수의 %를 결정! 여기선 0.6 ~ 1로 설정했다.\n",
    "\n",
    "5) (정규화 파라미터)reg_alpha와 reg_lambda를 튜닝\n",
    "> gamma도 정규화 파라미터라서 이를 잘 안해준다고 한다.\n",
    "\n",
    "6) learning rate를 줄이고 n_estimators의 값을 늘려서 최적의 파라미터를 찾는다!"
   ]
  },
  {
   "cell_type": "markdown",
   "metadata": {},
   "source": [
    "####  step1) learning rate에 최적화된 n_estimators 값 찾기"
   ]
  },
  {
   "cell_type": "markdown",
   "metadata": {},
   "source": [
    "이 과정이 상당히 중요한 이유는, 과적합을 방지하는 단계이기 때문이다. \n",
    "\n",
    "당연히 nround(n_estimator)가 커지면 테스트 셋에 상당히 fit된 모델을 얻게 된다. \n",
    "따라서 이를 방지하기 위해, 해당 learning rate에 최적화된 n_estimator의 값을 찾는 것이다."
   ]
  },
  {
   "cell_type": "code",
   "execution_count": 14,
   "metadata": {},
   "outputs": [],
   "source": [
    "#Warning을 안뜨게 하기 위해 파라미터 직접 지정...\n",
    "param1 = {\n",
    " \"learning_rate\" : 0.1,\n",
    "#  \"n_estimators\" : 1000,\n",
    " \"max_depth\" : 5,\n",
    " \"min_child_weight\" : 1,\n",
    " \"gamma\" : 0,\n",
    " \"subsample\" : 0.8,\n",
    " \"colsample_bytree\" : 0.8,\n",
    " \"seed\" : 1234\n",
    "}\n",
    "\n",
    "xgb1 = xgb.XGBRegressor(\n",
    " learning_rate =0.1,\n",
    " n_estimators = 1000,\n",
    " max_depth=5,\n",
    " min_child_weight=1,\n",
    " gamma=0,\n",
    " subsample=0.8,\n",
    " colsample_bytree=0.8,\n",
    "#  nthread =4,병렬처리의 개수인 것 같다. 디폴트로 하면 최대!\n",
    "#  scale_pos_weight = 1,\n",
    " seed = 1234)"
   ]
  },
  {
   "cell_type": "code",
   "execution_count": 19,
   "metadata": {},
   "outputs": [
    {
     "name": "stdout",
     "output_type": "stream",
     "text": [
      "nround : 42\n",
      "cv_mean_error :     test-rmse-mean\n",
      "42        1.590353\n"
     ]
    }
   ],
   "source": [
    "#learning rate 0.1에 가장 적합한 n_estimator를 찾자\n",
    "\n",
    "#확정된 파라미터에 대해 xgb.cv진행. early_stopping_rounds로 짧은 iteration을 찾는다.\n",
    "cv_result = xgb.cv(param1, train_set, nfold = 5, num_boost_round = 1000, metrics = 'rmse')\n",
    "\n",
    "#learning rate에 대한 최적의 nrounds 저장 \n",
    "nround = cv_result[['test-rmse-mean']].idxmin()\n",
    "\n",
    "#해당 값들 출력\n",
    "print(\"nround : {0}\".format(nround[0]))\n",
    "print(\"cv_mean_error : {0}\".format(cv_result.loc[cv_result[['test-rmse-mean']].idxmin()][['test-rmse-mean']]))\n",
    "\n",
    "#업데이트된 iteration을 sk-learn wrapper에 다시 저장한다\n",
    "xgb2 = xgb.XGBRegressor(\n",
    " learning_rate =0.1,\n",
    " n_estimators = nround[0],\n",
    " max_depth=5,\n",
    " min_child_weight=1,\n",
    " gamma=0,\n",
    " subsample=0.8,\n",
    " colsample_bytree=0.8,\n",
    "#  nthread =4,병렬처리의 개수인 것 같다. 디폴트로 하면 최대!\n",
    "#  scale_pos_weight = 1,\n",
    " seed = 1234)"
   ]
  },
  {
   "cell_type": "markdown",
   "metadata": {},
   "source": [
    "- 실제로 nround가 늘어날때 RMSE의 그래프를 살펴보자\n",
    "\n",
    "여기서 알 수 있는 것은, nround가 늘어난다고 해서 cv-error(RMSE)가 무조건 줄어드는 것은 아니라는 것이다. 오히려 과적합되어 validation으로 사용되는 데이터에 대해서는 좋은 성능을 보이지 못할 수 있다."
   ]
  },
  {
   "cell_type": "code",
   "execution_count": 20,
   "metadata": {},
   "outputs": [
    {
     "data": {
      "image/png": "[encoded data removed]",
      "text/plain": [
       "<Figure size 432x288 with 1 Axes>"
      ]
     },
     "metadata": {
      "needs_background": "light"
     },
     "output_type": "display_data"
    }
   ],
   "source": [
    "plt.figure()\n",
    "x = np.arange(1,1001)\n",
    "plt.plot(x, cv_result[['test-rmse-mean']])\n",
    "plt.show()"
   ]
  },
  {
   "cell_type": "markdown",
   "metadata": {},
   "source": [
    "#### Step2) max_depth와 min_child_weight Tuning"
   ]
  },
  {
   "cell_type": "code",
   "execution_count": 21,
   "metadata": {},
   "outputs": [
    {
     "name": "stdout",
     "output_type": "stream",
     "text": [
      "best parameter: {'max_depth': 3, 'min_child_weight': 3}\n",
      "best score :  1.520427327921387\n"
     ]
    },
    {
     "data": {
      "text/html": [
       "<div>\n",
       "<style scoped>\n",
       "    .dataframe tbody tr th:only-of-type {\n",
       "        vertical-align: middle;\n",
       "    }\n",
       "\n",
       "    .dataframe tbody tr th {\n",
       "        vertical-align: top;\n",
       "    }\n",
       "\n",
       "    .dataframe thead th {\n",
       "        text-align: right;\n",
       "    }\n",
       "</style>\n",
       "<table border=\"1\" class=\"dataframe\">\n",
       "  <thead>\n",
       "    <tr style=\"text-align: right;\">\n",
       "      <th></th>\n",
       "      <th>params</th>\n",
       "      <th>mean_test_score</th>\n",
       "      <th>rank_test_score</th>\n",
       "    </tr>\n",
       "  </thead>\n",
       "  <tbody>\n",
       "    <tr>\n",
       "      <th>2</th>\n",
       "      <td>{'max_depth': 3, 'min_child_weight': 3}</td>\n",
       "      <td>-1.520427</td>\n",
       "      <td>1</td>\n",
       "    </tr>\n",
       "    <tr>\n",
       "      <th>3</th>\n",
       "      <td>{'max_depth': 3, 'min_child_weight': 4}</td>\n",
       "      <td>-1.520450</td>\n",
       "      <td>2</td>\n",
       "    </tr>\n",
       "    <tr>\n",
       "      <th>0</th>\n",
       "      <td>{'max_depth': 3, 'min_child_weight': 1}</td>\n",
       "      <td>-1.531974</td>\n",
       "      <td>3</td>\n",
       "    </tr>\n",
       "    <tr>\n",
       "      <th>9</th>\n",
       "      <td>{'max_depth': 4, 'min_child_weight': 5}</td>\n",
       "      <td>-1.536658</td>\n",
       "      <td>4</td>\n",
       "    </tr>\n",
       "    <tr>\n",
       "      <th>4</th>\n",
       "      <td>{'max_depth': 3, 'min_child_weight': 5}</td>\n",
       "      <td>-1.536857</td>\n",
       "      <td>5</td>\n",
       "    </tr>\n",
       "  </tbody>\n",
       "</table>\n",
       "</div>"
      ],
      "text/plain": [
       "                                    params  mean_test_score  rank_test_score\n",
       "2  {'max_depth': 3, 'min_child_weight': 3}        -1.520427                1\n",
       "3  {'max_depth': 3, 'min_child_weight': 4}        -1.520450                2\n",
       "0  {'max_depth': 3, 'min_child_weight': 1}        -1.531974                3\n",
       "9  {'max_depth': 4, 'min_child_weight': 5}        -1.536658                4\n",
       "4  {'max_depth': 3, 'min_child_weight': 5}        -1.536857                5"
      ]
     },
     "execution_count": 21,
     "metadata": {},
     "output_type": "execute_result"
    }
   ],
   "source": [
    "#max_depth와 min_child_weight의 grid 지정\n",
    "param_step2 = {\n",
    "    'max_depth' : range(3,10,1),  #시간이 좀 걸려도 1씩 증가하게 해주면 더 한번에 찾을 수 있을 것이다.\n",
    "    'min_child_weight' : range(1,6,1)\n",
    "}\n",
    "\n",
    "#그리드서치 진행\n",
    "gsearch_step2  = GridSearchCV(estimator = xgb2, \n",
    "                                  param_grid = param_step2, scoring = 'neg_root_mean_squared_error', cv = 5, n_jobs = -1) #n_jobs는 병렬처리로 한다는 뜻인 것 같다.\n",
    "\n",
    "\n",
    "gsearch_step2.fit(train_data,train_label)\n",
    "\n",
    "#최적의 파라미터를 추출한다.\n",
    "print(\"best parameter:\", gsearch_step2.best_params_)\n",
    "print(\"best score : \", -gsearch_step2.best_score_)\n",
    "\n",
    "#max_depth, min_child_weight를 저장하자\n",
    "xgb3 = xgb.XGBRegressor(\n",
    " learning_rate =0.1,\n",
    " n_estimators = nround[0],\n",
    " max_depth = gsearch_step2.best_params_['max_depth'],\n",
    " min_child_weight=gsearch_step2.best_params_['min_child_weight'],\n",
    " gamma=0,\n",
    " subsample=0.8,\n",
    " colsample_bytree=0.8,\n",
    " seed =1234)\n",
    "\n",
    "#파라미터별 cv_mean 한눈에 보기\n",
    "cv_result_step2 = pd.DataFrame(gsearch_step2.cv_results_)\n",
    "cv_result_step2.sort_values(by = ['rank_test_score'], inplace = True)\n",
    "cv_result_step2[['params', 'mean_test_score', 'rank_test_score']].head(5)"
   ]
  },
  {
   "cell_type": "markdown",
   "metadata": {},
   "source": [
    "- 싸이킷 런에서는 독특하게 최대를 찾는 함수를 적용한다고 한다. 그래서 scoring도 negative_mean_squared_error!\n",
    "- 실제로는 저기에 음수를 취해준 값이 우리의 cv_mean이다.\n",
    "- 실제로 test rmse가 줄어들었다!"
   ]
  },
  {
   "cell_type": "markdown",
   "metadata": {},
   "source": [
    "#### Step3) Gamma Tuning"
   ]
  },
  {
   "cell_type": "code",
   "execution_count": 22,
   "metadata": {},
   "outputs": [
    {
     "name": "stdout",
     "output_type": "stream",
     "text": [
      "best parameter: {'gamma': 0.0}\n",
      "best score :  1.520427327921387\n"
     ]
    },
    {
     "data": {
      "text/html": [
       "<div>\n",
       "<style scoped>\n",
       "    .dataframe tbody tr th:only-of-type {\n",
       "        vertical-align: middle;\n",
       "    }\n",
       "\n",
       "    .dataframe tbody tr th {\n",
       "        vertical-align: top;\n",
       "    }\n",
       "\n",
       "    .dataframe thead th {\n",
       "        text-align: right;\n",
       "    }\n",
       "</style>\n",
       "<table border=\"1\" class=\"dataframe\">\n",
       "  <thead>\n",
       "    <tr style=\"text-align: right;\">\n",
       "      <th></th>\n",
       "      <th>params</th>\n",
       "      <th>mean_test_score</th>\n",
       "      <th>rank_test_score</th>\n",
       "    </tr>\n",
       "  </thead>\n",
       "  <tbody>\n",
       "    <tr>\n",
       "      <th>0</th>\n",
       "      <td>{'gamma': 0.0}</td>\n",
       "      <td>-1.520427</td>\n",
       "      <td>1</td>\n",
       "    </tr>\n",
       "    <tr>\n",
       "      <th>2</th>\n",
       "      <td>{'gamma': 0.2}</td>\n",
       "      <td>-1.520591</td>\n",
       "      <td>2</td>\n",
       "    </tr>\n",
       "    <tr>\n",
       "      <th>1</th>\n",
       "      <td>{'gamma': 0.1}</td>\n",
       "      <td>-1.520611</td>\n",
       "      <td>3</td>\n",
       "    </tr>\n",
       "    <tr>\n",
       "      <th>4</th>\n",
       "      <td>{'gamma': 0.4}</td>\n",
       "      <td>-1.525688</td>\n",
       "      <td>4</td>\n",
       "    </tr>\n",
       "    <tr>\n",
       "      <th>3</th>\n",
       "      <td>{'gamma': 0.3}</td>\n",
       "      <td>-1.525691</td>\n",
       "      <td>5</td>\n",
       "    </tr>\n",
       "  </tbody>\n",
       "</table>\n",
       "</div>"
      ],
      "text/plain": [
       "           params  mean_test_score  rank_test_score\n",
       "0  {'gamma': 0.0}        -1.520427                1\n",
       "2  {'gamma': 0.2}        -1.520591                2\n",
       "1  {'gamma': 0.1}        -1.520611                3\n",
       "4  {'gamma': 0.4}        -1.525688                4\n",
       "3  {'gamma': 0.3}        -1.525691                5"
      ]
     },
     "execution_count": 22,
     "metadata": {},
     "output_type": "execute_result"
    }
   ],
   "source": [
    "#gamma에 대한 grid를 설정\n",
    "param_step3 = {\n",
    "    'gamma':[i/10.0 for i in range(0,5)]  \n",
    "}\n",
    "\n",
    "\n",
    "gsearch_step3  = GridSearchCV(estimator = xgb3, #아까 max_depth, min_child_weight의 값을 바꿔준 모델!\n",
    "                                  param_grid = param_step3, scoring='neg_root_mean_squared_error', cv=5, n_jobs = -1) #n_jobs는 병렬처리로 한다는 뜻인 것 같다.\n",
    "\n",
    "gsearch_step3.fit(train_data,train_label)\n",
    "\n",
    "#최적 파라미터 설정\n",
    "print(\"best parameter:\", gsearch_step3.best_params_)\n",
    "print(\"best score : \", -gsearch_step3.best_score_)\n",
    "\n",
    "#gamma의 값 저장\n",
    "\n",
    "xgb3 = xgb.XGBRegressor(\n",
    " learning_rate =0.1,\n",
    " n_estimators = nround[0],\n",
    " max_depth = gsearch_step2.best_params_['max_depth'],\n",
    " min_child_weight = gsearch_step2.best_params_['min_child_weight'],\n",
    " gamma=gsearch_step3.best_params_['gamma'],\n",
    " subsample=0.8,\n",
    " colsample_bytree=0.8,\n",
    " seed =1234)\n",
    "\n",
    "#파라미터별 cv_mean 한눈에 보기\n",
    "cv_result_step3 = pd.DataFrame(gsearch_step3.cv_results_)\n",
    "cv_result_step3.sort_values(by = ['rank_test_score'], inplace = True)\n",
    "cv_result_step3[['params', 'mean_test_score', 'rank_test_score']].head(5)"
   ]
  },
  {
   "cell_type": "markdown",
   "metadata": {},
   "source": [
    "이번에도 cv_error가 아주 미세하게나마 줄어들었다."
   ]
  },
  {
   "cell_type": "markdown",
   "metadata": {},
   "source": [
    "#### Step4) Tuning subsample and colsample_bytree"
   ]
  },
  {
   "cell_type": "code",
   "execution_count": 23,
   "metadata": {},
   "outputs": [
    {
     "name": "stdout",
     "output_type": "stream",
     "text": [
      "best parameter: {'colsample_bytree': 0.7, 'subsample': 0.7}\n",
      "best score :  1.4959195058503554\n"
     ]
    },
    {
     "data": {
      "text/html": [
       "<div>\n",
       "<style scoped>\n",
       "    .dataframe tbody tr th:only-of-type {\n",
       "        vertical-align: middle;\n",
       "    }\n",
       "\n",
       "    .dataframe tbody tr th {\n",
       "        vertical-align: top;\n",
       "    }\n",
       "\n",
       "    .dataframe thead th {\n",
       "        text-align: right;\n",
       "    }\n",
       "</style>\n",
       "<table border=\"1\" class=\"dataframe\">\n",
       "  <thead>\n",
       "    <tr style=\"text-align: right;\">\n",
       "      <th></th>\n",
       "      <th>params</th>\n",
       "      <th>mean_test_score</th>\n",
       "      <th>rank_test_score</th>\n",
       "    </tr>\n",
       "  </thead>\n",
       "  <tbody>\n",
       "    <tr>\n",
       "      <th>21</th>\n",
       "      <td>{'colsample_bytree': 0.7, 'subsample': 0.7}</td>\n",
       "      <td>-1.495920</td>\n",
       "      <td>1</td>\n",
       "    </tr>\n",
       "    <tr>\n",
       "      <th>23</th>\n",
       "      <td>{'colsample_bytree': 0.7, 'subsample': 0.9}</td>\n",
       "      <td>-1.504844</td>\n",
       "      <td>2</td>\n",
       "    </tr>\n",
       "    <tr>\n",
       "      <th>16</th>\n",
       "      <td>{'colsample_bytree': 0.6, 'subsample': 0.8}</td>\n",
       "      <td>-1.507883</td>\n",
       "      <td>3</td>\n",
       "    </tr>\n",
       "    <tr>\n",
       "      <th>22</th>\n",
       "      <td>{'colsample_bytree': 0.7, 'subsample': 0.8}</td>\n",
       "      <td>-1.508365</td>\n",
       "      <td>4</td>\n",
       "    </tr>\n",
       "    <tr>\n",
       "      <th>17</th>\n",
       "      <td>{'colsample_bytree': 0.6, 'subsample': 0.9}</td>\n",
       "      <td>-1.509503</td>\n",
       "      <td>5</td>\n",
       "    </tr>\n",
       "  </tbody>\n",
       "</table>\n",
       "</div>"
      ],
      "text/plain": [
       "                                         params  mean_test_score  \\\n",
       "21  {'colsample_bytree': 0.7, 'subsample': 0.7}        -1.495920   \n",
       "23  {'colsample_bytree': 0.7, 'subsample': 0.9}        -1.504844   \n",
       "16  {'colsample_bytree': 0.6, 'subsample': 0.8}        -1.507883   \n",
       "22  {'colsample_bytree': 0.7, 'subsample': 0.8}        -1.508365   \n",
       "17  {'colsample_bytree': 0.6, 'subsample': 0.9}        -1.509503   \n",
       "\n",
       "    rank_test_score  \n",
       "21                1  \n",
       "23                2  \n",
       "16                3  \n",
       "22                4  \n",
       "17                5  "
      ]
     },
     "execution_count": 23,
     "metadata": {},
     "output_type": "execute_result"
    }
   ],
   "source": [
    "param_step4 = {\n",
    "    'subsample' : [i/10.0 for i in range(4,10)],\n",
    "    'colsample_bytree' : [i/10.0 for i in range(4,10)]\n",
    "}\n",
    "\n",
    "gsearch_step4  = GridSearchCV(estimator = xgb3, #gamma와 nround를 재정비해준 모형\n",
    "                                  param_grid = param_step4, scoring='neg_root_mean_squared_error', cv=5, n_jobs = -1) #n_jobs는 병렬처리로 한다는 뜻인 것 같다.\n",
    "gsearch_step4.fit(train_data,train_label)\n",
    "\n",
    "#CV값 추출\n",
    "print(\"best parameter:\", gsearch_step4.best_params_)\n",
    "print(\"best score : \", -gsearch_step4.best_score_)\n",
    "\n",
    "#subsample & colsample_bytree를 저장하자\n",
    "xgb4 = xgb.XGBRegressor(\n",
    " learning_rate =0.1,\n",
    " n_estimators = nround[0],\n",
    " max_depth = gsearch_step2.best_params_['max_depth'],\n",
    " min_child_weight = gsearch_step2.best_params_['min_child_weight'],\n",
    " gamma=gsearch_step3.best_params_['gamma'],\n",
    " subsample=gsearch_step4.best_params_['subsample'],\n",
    " colsample_bytree=gsearch_step4.best_params_['colsample_bytree'],\n",
    " seed =1234)\n",
    "\n",
    "#파라미터별 cv_mean 한눈에 보기\n",
    "cv_result_step4 = pd.DataFrame(gsearch_step4.cv_results_)\n",
    "cv_result_step4.sort_values(by = ['rank_test_score'], inplace = True)\n",
    "cv_result_step4[['params', 'mean_test_score', 'rank_test_score']].head(5)"
   ]
  },
  {
   "cell_type": "markdown",
   "metadata": {},
   "source": [
    "#### Step5) Tuning Regularization Parameters"
   ]
  },
  {
   "cell_type": "code",
   "execution_count": 24,
   "metadata": {},
   "outputs": [
    {
     "name": "stdout",
     "output_type": "stream",
     "text": [
      "best parameter: {'reg_alpha': 0, 'reg_lambda': 1}\n",
      "best score :  1.4959195058503554\n"
     ]
    },
    {
     "data": {
      "text/html": [
       "<div>\n",
       "<style scoped>\n",
       "    .dataframe tbody tr th:only-of-type {\n",
       "        vertical-align: middle;\n",
       "    }\n",
       "\n",
       "    .dataframe tbody tr th {\n",
       "        vertical-align: top;\n",
       "    }\n",
       "\n",
       "    .dataframe thead th {\n",
       "        text-align: right;\n",
       "    }\n",
       "</style>\n",
       "<table border=\"1\" class=\"dataframe\">\n",
       "  <thead>\n",
       "    <tr style=\"text-align: right;\">\n",
       "      <th></th>\n",
       "      <th>params</th>\n",
       "      <th>mean_test_score</th>\n",
       "      <th>rank_test_score</th>\n",
       "    </tr>\n",
       "  </thead>\n",
       "  <tbody>\n",
       "    <tr>\n",
       "      <th>4</th>\n",
       "      <td>{'reg_alpha': 0, 'reg_lambda': 1}</td>\n",
       "      <td>-1.495920</td>\n",
       "      <td>1</td>\n",
       "    </tr>\n",
       "    <tr>\n",
       "      <th>9</th>\n",
       "      <td>{'reg_alpha': 1e-05, 'reg_lambda': 1}</td>\n",
       "      <td>-1.495920</td>\n",
       "      <td>2</td>\n",
       "    </tr>\n",
       "    <tr>\n",
       "      <th>19</th>\n",
       "      <td>{'reg_alpha': 0.1, 'reg_lambda': 1}</td>\n",
       "      <td>-1.496896</td>\n",
       "      <td>3</td>\n",
       "    </tr>\n",
       "    <tr>\n",
       "      <th>14</th>\n",
       "      <td>{'reg_alpha': 0.01, 'reg_lambda': 1}</td>\n",
       "      <td>-1.497198</td>\n",
       "      <td>4</td>\n",
       "    </tr>\n",
       "    <tr>\n",
       "      <th>24</th>\n",
       "      <td>{'reg_alpha': 1, 'reg_lambda': 1}</td>\n",
       "      <td>-1.497283</td>\n",
       "      <td>5</td>\n",
       "    </tr>\n",
       "  </tbody>\n",
       "</table>\n",
       "</div>"
      ],
      "text/plain": [
       "                                   params  mean_test_score  rank_test_score\n",
       "4       {'reg_alpha': 0, 'reg_lambda': 1}        -1.495920                1\n",
       "9   {'reg_alpha': 1e-05, 'reg_lambda': 1}        -1.495920                2\n",
       "19    {'reg_alpha': 0.1, 'reg_lambda': 1}        -1.496896                3\n",
       "14   {'reg_alpha': 0.01, 'reg_lambda': 1}        -1.497198                4\n",
       "24      {'reg_alpha': 1, 'reg_lambda': 1}        -1.497283                5"
      ]
     },
     "execution_count": 24,
     "metadata": {},
     "output_type": "execute_result"
    }
   ],
   "source": [
    "param_step5 = {\n",
    "    'reg_alpha' : [0, 1e-5, 1e-2, 0.1, 1], #default = 0\n",
    "    'reg_lambda' : [0, 1e-5, 1e-2, 0.1, 1] #default = 1\n",
    "}\n",
    "\n",
    "gsearch_step5  = GridSearchCV(estimator = xgb4, #colsample_bytree와 subsample을 재정비해준 모형\n",
    "                                  param_grid = param_step5, scoring='neg_root_mean_squared_error', cv=5, n_jobs = -1) #n_jobs는 병렬처리로 한다는 뜻인 것 같다.\n",
    "gsearch_step5.fit(train_data,train_label)\n",
    "\n",
    "#CV값 추출\n",
    "print(\"best parameter:\", gsearch_step5.best_params_)\n",
    "print(\"best score : \", -gsearch_step5.best_score_)\n",
    "\n",
    "#alpha, lambda를 저장하자.\n",
    "xgb5 = xgb.XGBRegressor(\n",
    " learning_rate =0.1,\n",
    " n_estimators = nround[0],\n",
    " max_depth = gsearch_step2.best_params_['max_depth'],\n",
    " min_child_weight = gsearch_step2.best_params_['min_child_weight'],\n",
    " gamma=gsearch_step3.best_params_['gamma'],\n",
    " subsample = gsearch_step4.best_params_['subsample'],\n",
    " colsample_bytree = gsearch_step4.best_params_['colsample_bytree'],\n",
    " reg_alpha = gsearch_step5.best_params_['reg_alpha'],\n",
    " reg_lambda = gsearch_step5.best_params_['reg_lambda'],\n",
    " seed =1234)\n",
    "\n",
    "#파라미터별 cv_mean 한눈에 보기\n",
    "cv_result_step5 = pd.DataFrame(gsearch_step5.cv_results_)\n",
    "cv_result_step5.sort_values(by = ['rank_test_score'], inplace = True)\n",
    "cv_result_step5[['params', 'mean_test_score', 'rank_test_score']].head(5)"
   ]
  },
  {
   "cell_type": "markdown",
   "metadata": {},
   "source": [
    "> 알파와 람다는 바뀌지 않았다. 실제로 디폴트 값을 적용했을 때 RMSE가 가장 낮으므로 해당 부분을 사용한다"
   ]
  },
  {
   "cell_type": "markdown",
   "metadata": {},
   "source": [
    "- 최종적으로 설정된 파라미터에 대해 최적의 nrounds를 한번 찾아보자"
   ]
  },
  {
   "cell_type": "code",
   "execution_count": 32,
   "metadata": {},
   "outputs": [
    {
     "name": "stdout",
     "output_type": "stream",
     "text": [
      "nround :  55\n",
      "CV_error : -1.4950701974588199\n"
     ]
    }
   ],
   "source": [
    "#Warning을 안뜨게 하기 위해 파라미터 직접 지정...\n",
    "param3 = {\n",
    " \"learning_rate\" : 0.1,\n",
    "#  \"n_estimators\" : 1000,\n",
    " \"max_depth\" : gsearch_step2.best_params_['max_depth'],\n",
    " \"min_child_weight\" : gsearch_step2.best_params_['min_child_weight'],\n",
    " \"gamma\" : gsearch_step3.best_params_['gamma'],\n",
    " \"colsample_bytree\" : gsearch_step4.best_params_['colsample_bytree'],\n",
    " \"reg_alpha\" : gsearch_step5.best_params_['reg_alpha'],\n",
    " \"reg_lambda\" : gsearch_step5.best_params_['reg_lambda'],\n",
    "}\n",
    "\n",
    "\n",
    "#cv를 돌려서 현재까지 가진, 1)learning rate 2)max_depth 3)min_child_weight 4)gamma 5)colsample_bytree 6)alpha 7)gamma에\n",
    "#최적의 nround값을 다시 한번 산정해줘서, 최적의 파라미터를 찾아본다.\n",
    "\n",
    "#cv진행\n",
    "cv_result2 = xgb.cv(param3 ,train_set, nfold = 5, num_boost_round = 1000, metrics = 'rmse', seed=1234)\n",
    "\n",
    "#iteration의 최소값을 저장해준다.\n",
    "nround2 = cv_result2[['test-rmse-mean']].idxmin()[0]\n",
    "\n",
    "#최종 파라미터를 적용한 XGB parameter를 가진 xgb model을 만들어준다.\n",
    "xgb_fin = xgb.XGBRegressor(\n",
    " learning_rate =0.1,\n",
    " n_estimators = nround2,\n",
    " max_depth = gsearch_step2.best_params_['max_depth'],\n",
    " min_child_weight = gsearch_step2.best_params_['min_child_weight'],\n",
    " gamma=gsearch_step3.best_params_['gamma'],\n",
    " subsample = gsearch_step4.best_params_['subsample'],\n",
    " colsample_bytree = gsearch_step4.best_params_['colsample_bytree'],\n",
    " reg_alpha = gsearch_step5.best_params_['reg_alpha'],\n",
    " reg_lambda = gsearch_step5.best_params_['reg_lambda'],\n",
    " seed =1234)\n",
    "\n",
    "print(\"nround : \", nround2)\n",
    "print(\"CV_error : {0}\".format(np.mean(cross_val_score(xgb_fin, X = train_data, y = train_label, cv = 5, scoring = 'neg_root_mean_squared_error'))))"
   ]
  },
  {
   "cell_type": "markdown",
   "metadata": {},
   "source": [
    "nround가 42 -> 55로 바뀌면서 RMSE가 1.4959 -> 1.4950으로 소폭 개선됨을 파악할 수 있다."
   ]
  },
  {
   "cell_type": "markdown",
   "metadata": {},
   "source": [
    "#### Step6) Reducing Learning Rate"
   ]
  },
  {
   "cell_type": "markdown",
   "metadata": {},
   "source": [
    "learning rate를 줄이고 tree의 개수를 늘려보자"
   ]
  },
  {
   "cell_type": "code",
   "execution_count": 39,
   "metadata": {},
   "outputs": [
    {
     "name": "stdout",
     "output_type": "stream",
     "text": [
      "nround :  55\n",
      "CV_error : -1.6768348484938727\n"
     ]
    }
   ],
   "source": [
    "#우리가 가진 파라미터에 대해 진행하는 것인줄은 모르겠다.\n",
    "\n",
    "param4 = {\n",
    " \"learning_rate\" : 0.05, #learning_rate를 상당히 줄이고\n",
    "#  \"n_estimators\" : 1000,\n",
    " \"max_depth\" : gsearch_step2.best_params_['max_depth'],\n",
    " \"min_child_weight\" : gsearch_step2.best_params_['min_child_weight'],\n",
    " \"gamma\" : gsearch_step3.best_params_['gamma'],\n",
    " \"colsample_bytree\" : gsearch_step4.best_params_['colsample_bytree'],\n",
    " \"reg_alpha\" : gsearch_step5.best_params_['reg_alpha'],\n",
    " \"reg_lambda\" : gsearch_step5.best_params_['reg_lambda'],\n",
    "}\n",
    "\n",
    "#nround를 찾는다.\n",
    "cv_result3 = xgb.cv(param3 ,train_set, nfold = 5, num_boost_round = 10000, metrics = 'rmse', seed=1234)\n",
    "\n",
    "#iteration의 최소값을 저장해준다.\n",
    "nround3 = cv_result3[['test-rmse-mean']].idxmin()[0]\n",
    "\n",
    "#최종 파라미터를 적용한 XGB parameter를 가진 xgb model을 만들어준다.\n",
    "xgb_fin2 = xgb.XGBRegressor(\n",
    " learning_rate =0.05,\n",
    " n_estimators = nround3,\n",
    " max_depth = gsearch_step2.best_params_['max_depth'],\n",
    " min_child_weight = gsearch_step2.best_params_['min_child_weight'],\n",
    " gamma=gsearch_step3.best_params_['gamma'],\n",
    " subsample = gsearch_step4.best_params_['subsample'],\n",
    " colsample_bytree = gsearch_step4.best_params_['colsample_bytree'],\n",
    " reg_alpha = gsearch_step5.best_params_['reg_alpha'],\n",
    " reg_lambda = gsearch_step5.best_params_['reg_lambda'],\n",
    " seed =1234)\n",
    "\n",
    "print(\"nround : \", nround3)\n",
    "print(\"CV_error : {0}\".format(np.mean(cross_val_score(xgb_fin2, X = train_data, y = train_label, cv = 5, scoring = 'neg_root_mean_squared_error'))))"
   ]
  },
  {
   "cell_type": "markdown",
   "metadata": {},
   "source": [
    "> 근데 오히려 learning rate를 촘촘하게 가져감으로써 local min에 빠져버리는 것 같다. 0.1로 잡았을 때보다 RMSE값이 더 높아짐을 볼 수 있다."
   ]
  },
  {
   "cell_type": "markdown",
   "metadata": {},
   "source": [
    "#### 4-2) 최종 파라미터로 holdout을 예측해보자"
   ]
  },
  {
   "cell_type": "code",
   "execution_count": 38,
   "metadata": {},
   "outputs": [
    {
     "name": "stdout",
     "output_type": "stream",
     "text": [
      "cv_error_평균 :  1.4959195058503554\n",
      "train_error : 1.2150595076986628\n",
      "holdout_error : 1.4275365538938654\n"
     ]
    }
   ],
   "source": [
    "#모형학습\n",
    "xgb_final = xgb_fin.fit(train_data, train_label, eval_metric = 'rmse')\n",
    "\n",
    "#train 전체에 대한 error\n",
    "xgb_pred_train = xgb_final.predict(train_data)\n",
    "\n",
    "#holdout set 예측!\n",
    "xgb_pred_holdout = xgb_final.predict(holdout_data)\n",
    "\n",
    "#성능 산출\n",
    "print(\"cv_error_평균 : \", -gsearch_step5.best_score_)\n",
    "print(\"train_error : {0}\".format(np.sqrt(metrics.mean_squared_error(xgb_pred_train, train_label))))\n",
    "print(\"holdout_error : {0}\".format(np.sqrt(metrics.mean_squared_error(xgb_pred_holdout, holdout_label))))"
   ]
  }
 ],
 "metadata": {
  "kernelspec": {
   "display_name": "Python 3",
   "language": "python",
   "name": "python3"
  },
  "language_info": {
   "codemirror_mode": {
    "name": "ipython",
    "version": 3
   },
   "file_extension": ".py",
   "mimetype": "text/x-python",
   "name": "python",
   "nbconvert_exporter": "python",
   "pygments_lexer": "ipython3",
   "version": "3.8.5"
  }
 },
 "nbformat": 4,
 "nbformat_minor": 4
}
